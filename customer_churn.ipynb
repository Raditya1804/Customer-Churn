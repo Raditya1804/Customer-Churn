{
 "cells": [
  {
   "cell_type": "markdown",
   "metadata": {},
   "source": [
    "# Phase 2 - Milestones 1"
   ]
  },
  {
   "cell_type": "markdown",
   "metadata": {},
   "source": [
    "Nama : Raditya Saputra"
   ]
  },
  {
   "cell_type": "markdown",
   "metadata": {},
   "source": [
    "Batch : 007 FTDS"
   ]
  },
  {
   "cell_type": "markdown",
   "metadata": {},
   "source": [
    "# Perkenalan"
   ]
  },
  {
   "cell_type": "markdown",
   "metadata": {},
   "source": [
    "This dataset comes from: https://www.kaggle.com/blastchar/telco-customer-churn\n",
    "\n",
    "The data set includes information about customers who use network services.\n",
    "- Services that each subscriber has registered with: telephone, multiple channels, internet, online security, online backup, device protection, technical support and TV and movie streaming\n",
    "- Customer account information: how long they have been a customer, contract, payment method, paperless billing, monthly billing, and total billing\n",
    "- Demographic info about customers: gender, age range, and if they have a partner and dependents\n",
    "- Customers who left in the past month are called Churn\n",
    "- Whether the customer churn or not (Yes or No)\n",
    "\n",
    "The objective to be achieved is predicting behavior to retain customers."
   ]
  },
  {
   "cell_type": "markdown",
   "metadata": {},
   "source": [
    "# Import Libraries"
   ]
  },
  {
   "cell_type": "code",
   "execution_count": 1,
   "metadata": {},
   "outputs": [],
   "source": [
    "import pandas as pd\n",
    "import numpy as np\n",
    "import seaborn as sns\n",
    "import matplotlib.pyplot as plt\n",
    "\n",
    "from sklearn.model_selection import train_test_split\n",
    "from sklearn.metrics import classification_report\n",
    "from sklearn.preprocessing import MinMaxScaler, LabelEncoder, OrdinalEncoder\n",
    "\n",
    "import tensorflow as tf\n",
    "from tensorflow import keras\n",
    "from tensorflow.keras.models import Sequential\n",
    "from tensorflow.keras.layers import Dense\n",
    "from tensorflow.keras.models import Model\n",
    "from tensorflow.keras.layers import Input"
   ]
  },
  {
   "cell_type": "markdown",
   "metadata": {},
   "source": [
    "# Data Loading"
   ]
  },
  {
   "cell_type": "code",
   "execution_count": 2,
   "metadata": {},
   "outputs": [
    {
     "data": {
      "text/html": [
       "<div>\n",
       "<style scoped>\n",
       "    .dataframe tbody tr th:only-of-type {\n",
       "        vertical-align: middle;\n",
       "    }\n",
       "\n",
       "    .dataframe tbody tr th {\n",
       "        vertical-align: top;\n",
       "    }\n",
       "\n",
       "    .dataframe thead th {\n",
       "        text-align: right;\n",
       "    }\n",
       "</style>\n",
       "<table border=\"1\" class=\"dataframe\">\n",
       "  <thead>\n",
       "    <tr style=\"text-align: right;\">\n",
       "      <th></th>\n",
       "      <th>customerID</th>\n",
       "      <th>gender</th>\n",
       "      <th>SeniorCitizen</th>\n",
       "      <th>Partner</th>\n",
       "      <th>Dependents</th>\n",
       "      <th>tenure</th>\n",
       "      <th>PhoneService</th>\n",
       "      <th>MultipleLines</th>\n",
       "      <th>InternetService</th>\n",
       "      <th>OnlineSecurity</th>\n",
       "      <th>OnlineBackup</th>\n",
       "      <th>DeviceProtection</th>\n",
       "      <th>TechSupport</th>\n",
       "      <th>StreamingTV</th>\n",
       "      <th>StreamingMovies</th>\n",
       "      <th>Contract</th>\n",
       "      <th>PaperlessBilling</th>\n",
       "      <th>PaymentMethod</th>\n",
       "      <th>MonthlyCharges</th>\n",
       "      <th>TotalCharges</th>\n",
       "      <th>Churn</th>\n",
       "    </tr>\n",
       "  </thead>\n",
       "  <tbody>\n",
       "    <tr>\n",
       "      <th>0</th>\n",
       "      <td>7590-VHVEG</td>\n",
       "      <td>Female</td>\n",
       "      <td>0</td>\n",
       "      <td>Yes</td>\n",
       "      <td>No</td>\n",
       "      <td>1</td>\n",
       "      <td>No</td>\n",
       "      <td>No phone service</td>\n",
       "      <td>DSL</td>\n",
       "      <td>No</td>\n",
       "      <td>Yes</td>\n",
       "      <td>No</td>\n",
       "      <td>No</td>\n",
       "      <td>No</td>\n",
       "      <td>No</td>\n",
       "      <td>Month-to-month</td>\n",
       "      <td>Yes</td>\n",
       "      <td>Electronic check</td>\n",
       "      <td>29.85</td>\n",
       "      <td>29.85</td>\n",
       "      <td>No</td>\n",
       "    </tr>\n",
       "    <tr>\n",
       "      <th>1</th>\n",
       "      <td>5575-GNVDE</td>\n",
       "      <td>Male</td>\n",
       "      <td>0</td>\n",
       "      <td>No</td>\n",
       "      <td>No</td>\n",
       "      <td>34</td>\n",
       "      <td>Yes</td>\n",
       "      <td>No</td>\n",
       "      <td>DSL</td>\n",
       "      <td>Yes</td>\n",
       "      <td>No</td>\n",
       "      <td>Yes</td>\n",
       "      <td>No</td>\n",
       "      <td>No</td>\n",
       "      <td>No</td>\n",
       "      <td>One year</td>\n",
       "      <td>No</td>\n",
       "      <td>Mailed check</td>\n",
       "      <td>56.95</td>\n",
       "      <td>1889.5</td>\n",
       "      <td>No</td>\n",
       "    </tr>\n",
       "    <tr>\n",
       "      <th>2</th>\n",
       "      <td>3668-QPYBK</td>\n",
       "      <td>Male</td>\n",
       "      <td>0</td>\n",
       "      <td>No</td>\n",
       "      <td>No</td>\n",
       "      <td>2</td>\n",
       "      <td>Yes</td>\n",
       "      <td>No</td>\n",
       "      <td>DSL</td>\n",
       "      <td>Yes</td>\n",
       "      <td>Yes</td>\n",
       "      <td>No</td>\n",
       "      <td>No</td>\n",
       "      <td>No</td>\n",
       "      <td>No</td>\n",
       "      <td>Month-to-month</td>\n",
       "      <td>Yes</td>\n",
       "      <td>Mailed check</td>\n",
       "      <td>53.85</td>\n",
       "      <td>108.15</td>\n",
       "      <td>Yes</td>\n",
       "    </tr>\n",
       "    <tr>\n",
       "      <th>3</th>\n",
       "      <td>7795-CFOCW</td>\n",
       "      <td>Male</td>\n",
       "      <td>0</td>\n",
       "      <td>No</td>\n",
       "      <td>No</td>\n",
       "      <td>45</td>\n",
       "      <td>No</td>\n",
       "      <td>No phone service</td>\n",
       "      <td>DSL</td>\n",
       "      <td>Yes</td>\n",
       "      <td>No</td>\n",
       "      <td>Yes</td>\n",
       "      <td>Yes</td>\n",
       "      <td>No</td>\n",
       "      <td>No</td>\n",
       "      <td>One year</td>\n",
       "      <td>No</td>\n",
       "      <td>Bank transfer (automatic)</td>\n",
       "      <td>42.30</td>\n",
       "      <td>1840.75</td>\n",
       "      <td>No</td>\n",
       "    </tr>\n",
       "    <tr>\n",
       "      <th>4</th>\n",
       "      <td>9237-HQITU</td>\n",
       "      <td>Female</td>\n",
       "      <td>0</td>\n",
       "      <td>No</td>\n",
       "      <td>No</td>\n",
       "      <td>2</td>\n",
       "      <td>Yes</td>\n",
       "      <td>No</td>\n",
       "      <td>Fiber optic</td>\n",
       "      <td>No</td>\n",
       "      <td>No</td>\n",
       "      <td>No</td>\n",
       "      <td>No</td>\n",
       "      <td>No</td>\n",
       "      <td>No</td>\n",
       "      <td>Month-to-month</td>\n",
       "      <td>Yes</td>\n",
       "      <td>Electronic check</td>\n",
       "      <td>70.70</td>\n",
       "      <td>151.65</td>\n",
       "      <td>Yes</td>\n",
       "    </tr>\n",
       "  </tbody>\n",
       "</table>\n",
       "</div>"
      ],
      "text/plain": [
       "   customerID  gender  SeniorCitizen Partner Dependents  tenure PhoneService  \\\n",
       "0  7590-VHVEG  Female              0     Yes         No       1           No   \n",
       "1  5575-GNVDE    Male              0      No         No      34          Yes   \n",
       "2  3668-QPYBK    Male              0      No         No       2          Yes   \n",
       "3  7795-CFOCW    Male              0      No         No      45           No   \n",
       "4  9237-HQITU  Female              0      No         No       2          Yes   \n",
       "\n",
       "      MultipleLines InternetService OnlineSecurity OnlineBackup  \\\n",
       "0  No phone service             DSL             No          Yes   \n",
       "1                No             DSL            Yes           No   \n",
       "2                No             DSL            Yes          Yes   \n",
       "3  No phone service             DSL            Yes           No   \n",
       "4                No     Fiber optic             No           No   \n",
       "\n",
       "  DeviceProtection TechSupport StreamingTV StreamingMovies        Contract  \\\n",
       "0               No          No          No              No  Month-to-month   \n",
       "1              Yes          No          No              No        One year   \n",
       "2               No          No          No              No  Month-to-month   \n",
       "3              Yes         Yes          No              No        One year   \n",
       "4               No          No          No              No  Month-to-month   \n",
       "\n",
       "  PaperlessBilling              PaymentMethod  MonthlyCharges TotalCharges  \\\n",
       "0              Yes           Electronic check           29.85        29.85   \n",
       "1               No               Mailed check           56.95       1889.5   \n",
       "2              Yes               Mailed check           53.85       108.15   \n",
       "3               No  Bank transfer (automatic)           42.30      1840.75   \n",
       "4              Yes           Electronic check           70.70       151.65   \n",
       "\n",
       "  Churn  \n",
       "0    No  \n",
       "1    No  \n",
       "2   Yes  \n",
       "3    No  \n",
       "4   Yes  "
      ]
     },
     "execution_count": 2,
     "metadata": {},
     "output_type": "execute_result"
    }
   ],
   "source": [
    "df = pd.read_csv('WA_Fn-UseC_-Telco-Customer-Churn.csv')\n",
    "pd.set_option('display.max_columns', None)\n",
    "df.head()"
   ]
  },
  {
   "cell_type": "markdown",
   "metadata": {},
   "source": [
    "Gambaran sekilas dataset"
   ]
  },
  {
   "cell_type": "code",
   "execution_count": 3,
   "metadata": {},
   "outputs": [
    {
     "data": {
      "text/plain": [
       "(7043, 21)"
      ]
     },
     "execution_count": 3,
     "metadata": {},
     "output_type": "execute_result"
    }
   ],
   "source": [
    "df.shape"
   ]
  },
  {
   "cell_type": "markdown",
   "metadata": {},
   "source": [
    "The dataset consists of 7043 rows and 21 columns"
   ]
  },
  {
   "cell_type": "code",
   "execution_count": 4,
   "metadata": {},
   "outputs": [
    {
     "data": {
      "text/plain": [
       "Index(['customerID', 'gender', 'SeniorCitizen', 'Partner', 'Dependents',\n",
       "       'tenure', 'PhoneService', 'MultipleLines', 'InternetService',\n",
       "       'OnlineSecurity', 'OnlineBackup', 'DeviceProtection', 'TechSupport',\n",
       "       'StreamingTV', 'StreamingMovies', 'Contract', 'PaperlessBilling',\n",
       "       'PaymentMethod', 'MonthlyCharges', 'TotalCharges', 'Churn'],\n",
       "      dtype='object')"
      ]
     },
     "execution_count": 4,
     "metadata": {},
     "output_type": "execute_result"
    }
   ],
   "source": [
    "df.columns"
   ]
  },
  {
   "cell_type": "code",
   "execution_count": 5,
   "metadata": {},
   "outputs": [
    {
     "name": "stdout",
     "output_type": "stream",
     "text": [
      "<class 'pandas.core.frame.DataFrame'>\n",
      "RangeIndex: 7043 entries, 0 to 7042\n",
      "Data columns (total 21 columns):\n",
      " #   Column            Non-Null Count  Dtype  \n",
      "---  ------            --------------  -----  \n",
      " 0   customerID        7043 non-null   object \n",
      " 1   gender            7043 non-null   object \n",
      " 2   SeniorCitizen     7043 non-null   int64  \n",
      " 3   Partner           7043 non-null   object \n",
      " 4   Dependents        7043 non-null   object \n",
      " 5   tenure            7043 non-null   int64  \n",
      " 6   PhoneService      7043 non-null   object \n",
      " 7   MultipleLines     7043 non-null   object \n",
      " 8   InternetService   7043 non-null   object \n",
      " 9   OnlineSecurity    7043 non-null   object \n",
      " 10  OnlineBackup      7043 non-null   object \n",
      " 11  DeviceProtection  7043 non-null   object \n",
      " 12  TechSupport       7043 non-null   object \n",
      " 13  StreamingTV       7043 non-null   object \n",
      " 14  StreamingMovies   7043 non-null   object \n",
      " 15  Contract          7043 non-null   object \n",
      " 16  PaperlessBilling  7043 non-null   object \n",
      " 17  PaymentMethod     7043 non-null   object \n",
      " 18  MonthlyCharges    7043 non-null   float64\n",
      " 19  TotalCharges      7043 non-null   object \n",
      " 20  Churn             7043 non-null   object \n",
      "dtypes: float64(1), int64(2), object(18)\n",
      "memory usage: 1.1+ MB\n"
     ]
    }
   ],
   "source": [
    "df.info()"
   ]
  },
  {
   "cell_type": "markdown",
   "metadata": {},
   "source": [
    "The dataset consists of 2 types of numeric data and categories"
   ]
  },
  {
   "cell_type": "code",
   "execution_count": 6,
   "metadata": {},
   "outputs": [
    {
     "data": {
      "text/plain": [
       "customerID          0\n",
       "gender              0\n",
       "SeniorCitizen       0\n",
       "Partner             0\n",
       "Dependents          0\n",
       "tenure              0\n",
       "PhoneService        0\n",
       "MultipleLines       0\n",
       "InternetService     0\n",
       "OnlineSecurity      0\n",
       "OnlineBackup        0\n",
       "DeviceProtection    0\n",
       "TechSupport         0\n",
       "StreamingTV         0\n",
       "StreamingMovies     0\n",
       "Contract            0\n",
       "PaperlessBilling    0\n",
       "PaymentMethod       0\n",
       "MonthlyCharges      0\n",
       "TotalCharges        0\n",
       "Churn               0\n",
       "dtype: int64"
      ]
     },
     "execution_count": 6,
     "metadata": {},
     "output_type": "execute_result"
    }
   ],
   "source": [
    "df.isnull().sum()"
   ]
  },
  {
   "cell_type": "markdown",
   "metadata": {},
   "source": [
    "The dataset has no missing values"
   ]
  },
  {
   "cell_type": "code",
   "execution_count": 7,
   "metadata": {},
   "outputs": [
    {
     "data": {
      "text/html": [
       "<div>\n",
       "<style scoped>\n",
       "    .dataframe tbody tr th:only-of-type {\n",
       "        vertical-align: middle;\n",
       "    }\n",
       "\n",
       "    .dataframe tbody tr th {\n",
       "        vertical-align: top;\n",
       "    }\n",
       "\n",
       "    .dataframe thead th {\n",
       "        text-align: right;\n",
       "    }\n",
       "</style>\n",
       "<table border=\"1\" class=\"dataframe\">\n",
       "  <thead>\n",
       "    <tr style=\"text-align: right;\">\n",
       "      <th></th>\n",
       "      <th>SeniorCitizen</th>\n",
       "      <th>tenure</th>\n",
       "      <th>MonthlyCharges</th>\n",
       "    </tr>\n",
       "  </thead>\n",
       "  <tbody>\n",
       "    <tr>\n",
       "      <th>count</th>\n",
       "      <td>7043.000000</td>\n",
       "      <td>7043.000000</td>\n",
       "      <td>7043.000000</td>\n",
       "    </tr>\n",
       "    <tr>\n",
       "      <th>mean</th>\n",
       "      <td>0.162147</td>\n",
       "      <td>32.371149</td>\n",
       "      <td>64.761692</td>\n",
       "    </tr>\n",
       "    <tr>\n",
       "      <th>std</th>\n",
       "      <td>0.368612</td>\n",
       "      <td>24.559481</td>\n",
       "      <td>30.090047</td>\n",
       "    </tr>\n",
       "    <tr>\n",
       "      <th>min</th>\n",
       "      <td>0.000000</td>\n",
       "      <td>0.000000</td>\n",
       "      <td>18.250000</td>\n",
       "    </tr>\n",
       "    <tr>\n",
       "      <th>25%</th>\n",
       "      <td>0.000000</td>\n",
       "      <td>9.000000</td>\n",
       "      <td>35.500000</td>\n",
       "    </tr>\n",
       "    <tr>\n",
       "      <th>50%</th>\n",
       "      <td>0.000000</td>\n",
       "      <td>29.000000</td>\n",
       "      <td>70.350000</td>\n",
       "    </tr>\n",
       "    <tr>\n",
       "      <th>75%</th>\n",
       "      <td>0.000000</td>\n",
       "      <td>55.000000</td>\n",
       "      <td>89.850000</td>\n",
       "    </tr>\n",
       "    <tr>\n",
       "      <th>max</th>\n",
       "      <td>1.000000</td>\n",
       "      <td>72.000000</td>\n",
       "      <td>118.750000</td>\n",
       "    </tr>\n",
       "  </tbody>\n",
       "</table>\n",
       "</div>"
      ],
      "text/plain": [
       "       SeniorCitizen       tenure  MonthlyCharges\n",
       "count    7043.000000  7043.000000     7043.000000\n",
       "mean        0.162147    32.371149       64.761692\n",
       "std         0.368612    24.559481       30.090047\n",
       "min         0.000000     0.000000       18.250000\n",
       "25%         0.000000     9.000000       35.500000\n",
       "50%         0.000000    29.000000       70.350000\n",
       "75%         0.000000    55.000000       89.850000\n",
       "max         1.000000    72.000000      118.750000"
      ]
     },
     "execution_count": 7,
     "metadata": {},
     "output_type": "execute_result"
    }
   ],
   "source": [
    "df.describe()"
   ]
  },
  {
   "cell_type": "code",
   "execution_count": 8,
   "metadata": {},
   "outputs": [
    {
     "data": {
      "text/plain": [
       "0    5901\n",
       "1    1142\n",
       "Name: SeniorCitizen, dtype: int64"
      ]
     },
     "execution_count": 8,
     "metadata": {},
     "output_type": "execute_result"
    }
   ],
   "source": [
    "df['SeniorCitizen'].value_counts()"
   ]
  },
  {
   "cell_type": "markdown",
   "metadata": {},
   "source": [
    "many customers who come from a young age"
   ]
  },
  {
   "cell_type": "markdown",
   "metadata": {},
   "source": [
    "- The longest tenure is 72 months / 6 years\n",
    "- the average monthly fee is 64,761 and the maximum monthly fee is 118,750"
   ]
  },
  {
   "cell_type": "code",
   "execution_count": 9,
   "metadata": {},
   "outputs": [
    {
     "data": {
      "text/html": [
       "<div>\n",
       "<style scoped>\n",
       "    .dataframe tbody tr th:only-of-type {\n",
       "        vertical-align: middle;\n",
       "    }\n",
       "\n",
       "    .dataframe tbody tr th {\n",
       "        vertical-align: top;\n",
       "    }\n",
       "\n",
       "    .dataframe thead th {\n",
       "        text-align: right;\n",
       "    }\n",
       "</style>\n",
       "<table border=\"1\" class=\"dataframe\">\n",
       "  <thead>\n",
       "    <tr style=\"text-align: right;\">\n",
       "      <th></th>\n",
       "      <th>customerID</th>\n",
       "      <th>gender</th>\n",
       "      <th>Partner</th>\n",
       "      <th>Dependents</th>\n",
       "      <th>PhoneService</th>\n",
       "      <th>MultipleLines</th>\n",
       "      <th>InternetService</th>\n",
       "      <th>OnlineSecurity</th>\n",
       "      <th>OnlineBackup</th>\n",
       "      <th>DeviceProtection</th>\n",
       "      <th>TechSupport</th>\n",
       "      <th>StreamingTV</th>\n",
       "      <th>StreamingMovies</th>\n",
       "      <th>Contract</th>\n",
       "      <th>PaperlessBilling</th>\n",
       "      <th>PaymentMethod</th>\n",
       "      <th>TotalCharges</th>\n",
       "      <th>Churn</th>\n",
       "    </tr>\n",
       "  </thead>\n",
       "  <tbody>\n",
       "    <tr>\n",
       "      <th>count</th>\n",
       "      <td>7043</td>\n",
       "      <td>7043</td>\n",
       "      <td>7043</td>\n",
       "      <td>7043</td>\n",
       "      <td>7043</td>\n",
       "      <td>7043</td>\n",
       "      <td>7043</td>\n",
       "      <td>7043</td>\n",
       "      <td>7043</td>\n",
       "      <td>7043</td>\n",
       "      <td>7043</td>\n",
       "      <td>7043</td>\n",
       "      <td>7043</td>\n",
       "      <td>7043</td>\n",
       "      <td>7043</td>\n",
       "      <td>7043</td>\n",
       "      <td>7043</td>\n",
       "      <td>7043</td>\n",
       "    </tr>\n",
       "    <tr>\n",
       "      <th>unique</th>\n",
       "      <td>7043</td>\n",
       "      <td>2</td>\n",
       "      <td>2</td>\n",
       "      <td>2</td>\n",
       "      <td>2</td>\n",
       "      <td>3</td>\n",
       "      <td>3</td>\n",
       "      <td>3</td>\n",
       "      <td>3</td>\n",
       "      <td>3</td>\n",
       "      <td>3</td>\n",
       "      <td>3</td>\n",
       "      <td>3</td>\n",
       "      <td>3</td>\n",
       "      <td>2</td>\n",
       "      <td>4</td>\n",
       "      <td>6531</td>\n",
       "      <td>2</td>\n",
       "    </tr>\n",
       "    <tr>\n",
       "      <th>top</th>\n",
       "      <td>7590-VHVEG</td>\n",
       "      <td>Male</td>\n",
       "      <td>No</td>\n",
       "      <td>No</td>\n",
       "      <td>Yes</td>\n",
       "      <td>No</td>\n",
       "      <td>Fiber optic</td>\n",
       "      <td>No</td>\n",
       "      <td>No</td>\n",
       "      <td>No</td>\n",
       "      <td>No</td>\n",
       "      <td>No</td>\n",
       "      <td>No</td>\n",
       "      <td>Month-to-month</td>\n",
       "      <td>Yes</td>\n",
       "      <td>Electronic check</td>\n",
       "      <td></td>\n",
       "      <td>No</td>\n",
       "    </tr>\n",
       "    <tr>\n",
       "      <th>freq</th>\n",
       "      <td>1</td>\n",
       "      <td>3555</td>\n",
       "      <td>3641</td>\n",
       "      <td>4933</td>\n",
       "      <td>6361</td>\n",
       "      <td>3390</td>\n",
       "      <td>3096</td>\n",
       "      <td>3498</td>\n",
       "      <td>3088</td>\n",
       "      <td>3095</td>\n",
       "      <td>3473</td>\n",
       "      <td>2810</td>\n",
       "      <td>2785</td>\n",
       "      <td>3875</td>\n",
       "      <td>4171</td>\n",
       "      <td>2365</td>\n",
       "      <td>11</td>\n",
       "      <td>5174</td>\n",
       "    </tr>\n",
       "  </tbody>\n",
       "</table>\n",
       "</div>"
      ],
      "text/plain": [
       "        customerID gender Partner Dependents PhoneService MultipleLines  \\\n",
       "count         7043   7043    7043       7043         7043          7043   \n",
       "unique        7043      2       2          2            2             3   \n",
       "top     7590-VHVEG   Male      No         No          Yes            No   \n",
       "freq             1   3555    3641       4933         6361          3390   \n",
       "\n",
       "       InternetService OnlineSecurity OnlineBackup DeviceProtection  \\\n",
       "count             7043           7043         7043             7043   \n",
       "unique               3              3            3                3   \n",
       "top        Fiber optic             No           No               No   \n",
       "freq              3096           3498         3088             3095   \n",
       "\n",
       "       TechSupport StreamingTV StreamingMovies        Contract  \\\n",
       "count         7043        7043            7043            7043   \n",
       "unique           3           3               3               3   \n",
       "top             No          No              No  Month-to-month   \n",
       "freq          3473        2810            2785            3875   \n",
       "\n",
       "       PaperlessBilling     PaymentMethod TotalCharges Churn  \n",
       "count              7043              7043         7043  7043  \n",
       "unique                2                 4         6531     2  \n",
       "top                 Yes  Electronic check                 No  \n",
       "freq               4171              2365           11  5174  "
      ]
     },
     "execution_count": 9,
     "metadata": {},
     "output_type": "execute_result"
    }
   ],
   "source": [
    "df.describe(include=['object'])"
   ]
  },
  {
   "cell_type": "markdown",
   "metadata": {},
   "source": [
    "- Gender is dominated by Male\n",
    "- Many customers don't have partners and also dependents\n",
    "- Many customers subscribe to the phone\n",
    "- More customers who don't use multiple channels\n",
    "- Internet service is dominated by fiber optic\n",
    "- A lot of customers don't use online security, online backup, device protection, technical support, and TV and movie streaming\n",
    "- More customer contract terms per month\n",
    "- More customers make payments via electronic check and paperless"
   ]
  },
  {
   "cell_type": "markdown",
   "metadata": {},
   "source": [
    "Seen in the total charge feature there is information that is empty, which is not detected, it will be repaired"
   ]
  },
  {
   "cell_type": "code",
   "execution_count": 10,
   "metadata": {},
   "outputs": [
    {
     "data": {
      "text/html": [
       "<div>\n",
       "<style scoped>\n",
       "    .dataframe tbody tr th:only-of-type {\n",
       "        vertical-align: middle;\n",
       "    }\n",
       "\n",
       "    .dataframe tbody tr th {\n",
       "        vertical-align: top;\n",
       "    }\n",
       "\n",
       "    .dataframe thead th {\n",
       "        text-align: right;\n",
       "    }\n",
       "</style>\n",
       "<table border=\"1\" class=\"dataframe\">\n",
       "  <thead>\n",
       "    <tr style=\"text-align: right;\">\n",
       "      <th></th>\n",
       "      <th>customerID</th>\n",
       "      <th>gender</th>\n",
       "      <th>SeniorCitizen</th>\n",
       "      <th>Partner</th>\n",
       "      <th>Dependents</th>\n",
       "      <th>tenure</th>\n",
       "      <th>PhoneService</th>\n",
       "      <th>MultipleLines</th>\n",
       "      <th>InternetService</th>\n",
       "      <th>OnlineSecurity</th>\n",
       "      <th>OnlineBackup</th>\n",
       "      <th>DeviceProtection</th>\n",
       "      <th>TechSupport</th>\n",
       "      <th>StreamingTV</th>\n",
       "      <th>StreamingMovies</th>\n",
       "      <th>Contract</th>\n",
       "      <th>PaperlessBilling</th>\n",
       "      <th>PaymentMethod</th>\n",
       "      <th>MonthlyCharges</th>\n",
       "      <th>TotalCharges</th>\n",
       "      <th>Churn</th>\n",
       "    </tr>\n",
       "  </thead>\n",
       "  <tbody>\n",
       "    <tr>\n",
       "      <th>488</th>\n",
       "      <td>4472-LVYGI</td>\n",
       "      <td>Female</td>\n",
       "      <td>0</td>\n",
       "      <td>Yes</td>\n",
       "      <td>Yes</td>\n",
       "      <td>0</td>\n",
       "      <td>No</td>\n",
       "      <td>No phone service</td>\n",
       "      <td>DSL</td>\n",
       "      <td>Yes</td>\n",
       "      <td>No</td>\n",
       "      <td>Yes</td>\n",
       "      <td>Yes</td>\n",
       "      <td>Yes</td>\n",
       "      <td>No</td>\n",
       "      <td>Two year</td>\n",
       "      <td>Yes</td>\n",
       "      <td>Bank transfer (automatic)</td>\n",
       "      <td>52.55</td>\n",
       "      <td>NaN</td>\n",
       "      <td>No</td>\n",
       "    </tr>\n",
       "    <tr>\n",
       "      <th>753</th>\n",
       "      <td>3115-CZMZD</td>\n",
       "      <td>Male</td>\n",
       "      <td>0</td>\n",
       "      <td>No</td>\n",
       "      <td>Yes</td>\n",
       "      <td>0</td>\n",
       "      <td>Yes</td>\n",
       "      <td>No</td>\n",
       "      <td>No</td>\n",
       "      <td>No internet service</td>\n",
       "      <td>No internet service</td>\n",
       "      <td>No internet service</td>\n",
       "      <td>No internet service</td>\n",
       "      <td>No internet service</td>\n",
       "      <td>No internet service</td>\n",
       "      <td>Two year</td>\n",
       "      <td>No</td>\n",
       "      <td>Mailed check</td>\n",
       "      <td>20.25</td>\n",
       "      <td>NaN</td>\n",
       "      <td>No</td>\n",
       "    </tr>\n",
       "    <tr>\n",
       "      <th>936</th>\n",
       "      <td>5709-LVOEQ</td>\n",
       "      <td>Female</td>\n",
       "      <td>0</td>\n",
       "      <td>Yes</td>\n",
       "      <td>Yes</td>\n",
       "      <td>0</td>\n",
       "      <td>Yes</td>\n",
       "      <td>No</td>\n",
       "      <td>DSL</td>\n",
       "      <td>Yes</td>\n",
       "      <td>Yes</td>\n",
       "      <td>Yes</td>\n",
       "      <td>No</td>\n",
       "      <td>Yes</td>\n",
       "      <td>Yes</td>\n",
       "      <td>Two year</td>\n",
       "      <td>No</td>\n",
       "      <td>Mailed check</td>\n",
       "      <td>80.85</td>\n",
       "      <td>NaN</td>\n",
       "      <td>No</td>\n",
       "    </tr>\n",
       "    <tr>\n",
       "      <th>1082</th>\n",
       "      <td>4367-NUYAO</td>\n",
       "      <td>Male</td>\n",
       "      <td>0</td>\n",
       "      <td>Yes</td>\n",
       "      <td>Yes</td>\n",
       "      <td>0</td>\n",
       "      <td>Yes</td>\n",
       "      <td>Yes</td>\n",
       "      <td>No</td>\n",
       "      <td>No internet service</td>\n",
       "      <td>No internet service</td>\n",
       "      <td>No internet service</td>\n",
       "      <td>No internet service</td>\n",
       "      <td>No internet service</td>\n",
       "      <td>No internet service</td>\n",
       "      <td>Two year</td>\n",
       "      <td>No</td>\n",
       "      <td>Mailed check</td>\n",
       "      <td>25.75</td>\n",
       "      <td>NaN</td>\n",
       "      <td>No</td>\n",
       "    </tr>\n",
       "    <tr>\n",
       "      <th>1340</th>\n",
       "      <td>1371-DWPAZ</td>\n",
       "      <td>Female</td>\n",
       "      <td>0</td>\n",
       "      <td>Yes</td>\n",
       "      <td>Yes</td>\n",
       "      <td>0</td>\n",
       "      <td>No</td>\n",
       "      <td>No phone service</td>\n",
       "      <td>DSL</td>\n",
       "      <td>Yes</td>\n",
       "      <td>Yes</td>\n",
       "      <td>Yes</td>\n",
       "      <td>Yes</td>\n",
       "      <td>Yes</td>\n",
       "      <td>No</td>\n",
       "      <td>Two year</td>\n",
       "      <td>No</td>\n",
       "      <td>Credit card (automatic)</td>\n",
       "      <td>56.05</td>\n",
       "      <td>NaN</td>\n",
       "      <td>No</td>\n",
       "    </tr>\n",
       "    <tr>\n",
       "      <th>3331</th>\n",
       "      <td>7644-OMVMY</td>\n",
       "      <td>Male</td>\n",
       "      <td>0</td>\n",
       "      <td>Yes</td>\n",
       "      <td>Yes</td>\n",
       "      <td>0</td>\n",
       "      <td>Yes</td>\n",
       "      <td>No</td>\n",
       "      <td>No</td>\n",
       "      <td>No internet service</td>\n",
       "      <td>No internet service</td>\n",
       "      <td>No internet service</td>\n",
       "      <td>No internet service</td>\n",
       "      <td>No internet service</td>\n",
       "      <td>No internet service</td>\n",
       "      <td>Two year</td>\n",
       "      <td>No</td>\n",
       "      <td>Mailed check</td>\n",
       "      <td>19.85</td>\n",
       "      <td>NaN</td>\n",
       "      <td>No</td>\n",
       "    </tr>\n",
       "    <tr>\n",
       "      <th>3826</th>\n",
       "      <td>3213-VVOLG</td>\n",
       "      <td>Male</td>\n",
       "      <td>0</td>\n",
       "      <td>Yes</td>\n",
       "      <td>Yes</td>\n",
       "      <td>0</td>\n",
       "      <td>Yes</td>\n",
       "      <td>Yes</td>\n",
       "      <td>No</td>\n",
       "      <td>No internet service</td>\n",
       "      <td>No internet service</td>\n",
       "      <td>No internet service</td>\n",
       "      <td>No internet service</td>\n",
       "      <td>No internet service</td>\n",
       "      <td>No internet service</td>\n",
       "      <td>Two year</td>\n",
       "      <td>No</td>\n",
       "      <td>Mailed check</td>\n",
       "      <td>25.35</td>\n",
       "      <td>NaN</td>\n",
       "      <td>No</td>\n",
       "    </tr>\n",
       "    <tr>\n",
       "      <th>4380</th>\n",
       "      <td>2520-SGTTA</td>\n",
       "      <td>Female</td>\n",
       "      <td>0</td>\n",
       "      <td>Yes</td>\n",
       "      <td>Yes</td>\n",
       "      <td>0</td>\n",
       "      <td>Yes</td>\n",
       "      <td>No</td>\n",
       "      <td>No</td>\n",
       "      <td>No internet service</td>\n",
       "      <td>No internet service</td>\n",
       "      <td>No internet service</td>\n",
       "      <td>No internet service</td>\n",
       "      <td>No internet service</td>\n",
       "      <td>No internet service</td>\n",
       "      <td>Two year</td>\n",
       "      <td>No</td>\n",
       "      <td>Mailed check</td>\n",
       "      <td>20.00</td>\n",
       "      <td>NaN</td>\n",
       "      <td>No</td>\n",
       "    </tr>\n",
       "    <tr>\n",
       "      <th>5218</th>\n",
       "      <td>2923-ARZLG</td>\n",
       "      <td>Male</td>\n",
       "      <td>0</td>\n",
       "      <td>Yes</td>\n",
       "      <td>Yes</td>\n",
       "      <td>0</td>\n",
       "      <td>Yes</td>\n",
       "      <td>No</td>\n",
       "      <td>No</td>\n",
       "      <td>No internet service</td>\n",
       "      <td>No internet service</td>\n",
       "      <td>No internet service</td>\n",
       "      <td>No internet service</td>\n",
       "      <td>No internet service</td>\n",
       "      <td>No internet service</td>\n",
       "      <td>One year</td>\n",
       "      <td>Yes</td>\n",
       "      <td>Mailed check</td>\n",
       "      <td>19.70</td>\n",
       "      <td>NaN</td>\n",
       "      <td>No</td>\n",
       "    </tr>\n",
       "    <tr>\n",
       "      <th>6670</th>\n",
       "      <td>4075-WKNIU</td>\n",
       "      <td>Female</td>\n",
       "      <td>0</td>\n",
       "      <td>Yes</td>\n",
       "      <td>Yes</td>\n",
       "      <td>0</td>\n",
       "      <td>Yes</td>\n",
       "      <td>Yes</td>\n",
       "      <td>DSL</td>\n",
       "      <td>No</td>\n",
       "      <td>Yes</td>\n",
       "      <td>Yes</td>\n",
       "      <td>Yes</td>\n",
       "      <td>Yes</td>\n",
       "      <td>No</td>\n",
       "      <td>Two year</td>\n",
       "      <td>No</td>\n",
       "      <td>Mailed check</td>\n",
       "      <td>73.35</td>\n",
       "      <td>NaN</td>\n",
       "      <td>No</td>\n",
       "    </tr>\n",
       "    <tr>\n",
       "      <th>6754</th>\n",
       "      <td>2775-SEFEE</td>\n",
       "      <td>Male</td>\n",
       "      <td>0</td>\n",
       "      <td>No</td>\n",
       "      <td>Yes</td>\n",
       "      <td>0</td>\n",
       "      <td>Yes</td>\n",
       "      <td>Yes</td>\n",
       "      <td>DSL</td>\n",
       "      <td>Yes</td>\n",
       "      <td>Yes</td>\n",
       "      <td>No</td>\n",
       "      <td>Yes</td>\n",
       "      <td>No</td>\n",
       "      <td>No</td>\n",
       "      <td>Two year</td>\n",
       "      <td>Yes</td>\n",
       "      <td>Bank transfer (automatic)</td>\n",
       "      <td>61.90</td>\n",
       "      <td>NaN</td>\n",
       "      <td>No</td>\n",
       "    </tr>\n",
       "  </tbody>\n",
       "</table>\n",
       "</div>"
      ],
      "text/plain": [
       "      customerID  gender  SeniorCitizen Partner Dependents  tenure  \\\n",
       "488   4472-LVYGI  Female              0     Yes        Yes       0   \n",
       "753   3115-CZMZD    Male              0      No        Yes       0   \n",
       "936   5709-LVOEQ  Female              0     Yes        Yes       0   \n",
       "1082  4367-NUYAO    Male              0     Yes        Yes       0   \n",
       "1340  1371-DWPAZ  Female              0     Yes        Yes       0   \n",
       "3331  7644-OMVMY    Male              0     Yes        Yes       0   \n",
       "3826  3213-VVOLG    Male              0     Yes        Yes       0   \n",
       "4380  2520-SGTTA  Female              0     Yes        Yes       0   \n",
       "5218  2923-ARZLG    Male              0     Yes        Yes       0   \n",
       "6670  4075-WKNIU  Female              0     Yes        Yes       0   \n",
       "6754  2775-SEFEE    Male              0      No        Yes       0   \n",
       "\n",
       "     PhoneService     MultipleLines InternetService       OnlineSecurity  \\\n",
       "488            No  No phone service             DSL                  Yes   \n",
       "753           Yes                No              No  No internet service   \n",
       "936           Yes                No             DSL                  Yes   \n",
       "1082          Yes               Yes              No  No internet service   \n",
       "1340           No  No phone service             DSL                  Yes   \n",
       "3331          Yes                No              No  No internet service   \n",
       "3826          Yes               Yes              No  No internet service   \n",
       "4380          Yes                No              No  No internet service   \n",
       "5218          Yes                No              No  No internet service   \n",
       "6670          Yes               Yes             DSL                   No   \n",
       "6754          Yes               Yes             DSL                  Yes   \n",
       "\n",
       "             OnlineBackup     DeviceProtection          TechSupport  \\\n",
       "488                    No                  Yes                  Yes   \n",
       "753   No internet service  No internet service  No internet service   \n",
       "936                   Yes                  Yes                   No   \n",
       "1082  No internet service  No internet service  No internet service   \n",
       "1340                  Yes                  Yes                  Yes   \n",
       "3331  No internet service  No internet service  No internet service   \n",
       "3826  No internet service  No internet service  No internet service   \n",
       "4380  No internet service  No internet service  No internet service   \n",
       "5218  No internet service  No internet service  No internet service   \n",
       "6670                  Yes                  Yes                  Yes   \n",
       "6754                  Yes                   No                  Yes   \n",
       "\n",
       "              StreamingTV      StreamingMovies  Contract PaperlessBilling  \\\n",
       "488                   Yes                   No  Two year              Yes   \n",
       "753   No internet service  No internet service  Two year               No   \n",
       "936                   Yes                  Yes  Two year               No   \n",
       "1082  No internet service  No internet service  Two year               No   \n",
       "1340                  Yes                   No  Two year               No   \n",
       "3331  No internet service  No internet service  Two year               No   \n",
       "3826  No internet service  No internet service  Two year               No   \n",
       "4380  No internet service  No internet service  Two year               No   \n",
       "5218  No internet service  No internet service  One year              Yes   \n",
       "6670                  Yes                   No  Two year               No   \n",
       "6754                   No                   No  Two year              Yes   \n",
       "\n",
       "                  PaymentMethod  MonthlyCharges  TotalCharges Churn  \n",
       "488   Bank transfer (automatic)           52.55           NaN    No  \n",
       "753                Mailed check           20.25           NaN    No  \n",
       "936                Mailed check           80.85           NaN    No  \n",
       "1082               Mailed check           25.75           NaN    No  \n",
       "1340    Credit card (automatic)           56.05           NaN    No  \n",
       "3331               Mailed check           19.85           NaN    No  \n",
       "3826               Mailed check           25.35           NaN    No  \n",
       "4380               Mailed check           20.00           NaN    No  \n",
       "5218               Mailed check           19.70           NaN    No  \n",
       "6670               Mailed check           73.35           NaN    No  \n",
       "6754  Bank transfer (automatic)           61.90           NaN    No  "
      ]
     },
     "execution_count": 10,
     "metadata": {},
     "output_type": "execute_result"
    }
   ],
   "source": [
    "df['TotalCharges']=pd.to_numeric(df['TotalCharges'],errors='coerce')\n",
    "df[df['TotalCharges'].isnull()]"
   ]
  },
  {
   "cell_type": "markdown",
   "metadata": {},
   "source": [
    "Terdapat 11 missing values sebenarnya, pada total pembayaran, tidak ada alasan kenapa missing values ini terjadi dan missing values tidak banyak, maka akan dihapus dan begitu juga dengan kolum customerID"
   ]
  },
  {
   "cell_type": "code",
   "execution_count": 11,
   "metadata": {},
   "outputs": [],
   "source": [
    "df.drop(['customerID'], axis=1, inplace=True)\n",
    "df.dropna(inplace=True)"
   ]
  },
  {
   "cell_type": "code",
   "execution_count": 12,
   "metadata": {},
   "outputs": [
    {
     "name": "stdout",
     "output_type": "stream",
     "text": [
      "gender : ['Female' 'Male']\n",
      "Partner : ['Yes' 'No']\n",
      "Dependents : ['No' 'Yes']\n",
      "PhoneService : ['No' 'Yes']\n",
      "MultipleLines : ['No phone service' 'No' 'Yes']\n",
      "InternetService : ['DSL' 'Fiber optic' 'No']\n",
      "OnlineSecurity : ['No' 'Yes' 'No internet service']\n",
      "OnlineBackup : ['Yes' 'No' 'No internet service']\n",
      "DeviceProtection : ['No' 'Yes' 'No internet service']\n",
      "TechSupport : ['No' 'Yes' 'No internet service']\n",
      "StreamingTV : ['No' 'Yes' 'No internet service']\n",
      "StreamingMovies : ['No' 'Yes' 'No internet service']\n",
      "Contract : ['Month-to-month' 'One year' 'Two year']\n",
      "PaperlessBilling : ['Yes' 'No']\n",
      "PaymentMethod : ['Electronic check' 'Mailed check' 'Bank transfer (automatic)'\n",
      " 'Credit card (automatic)']\n",
      "Churn : ['No' 'Yes']\n"
     ]
    }
   ],
   "source": [
    "def kategori(df):\n",
    "    for column in df:\n",
    "        if df[column].dtypes == 'O':\n",
    "            print(f'{column} : {df[column].unique()}')\n",
    "kategori(df)"
   ]
  },
  {
   "cell_type": "markdown",
   "metadata": {},
   "source": [
    "Here's a label for each feature. There is a commonality of intent and purpose on the label. Next will be replaced\n",
    "- No internet service = No\n",
    "- No. phone service = No"
   ]
  },
  {
   "cell_type": "code",
   "execution_count": 13,
   "metadata": {},
   "outputs": [],
   "source": [
    "df = df.replace(['No phone service', 'No internet service'], \n",
    "                    ['No', 'No'])"
   ]
  },
  {
   "cell_type": "code",
   "execution_count": 14,
   "metadata": {},
   "outputs": [],
   "source": [
    "data = df.copy()"
   ]
  },
  {
   "cell_type": "markdown",
   "metadata": {},
   "source": [
    "# Exploratory Data Analysis (EDA)"
   ]
  },
  {
   "cell_type": "code",
   "execution_count": 15,
   "metadata": {},
   "outputs": [
    {
     "data": {
      "text/plain": [
       "<AxesSubplot:xlabel='gender', ylabel='count'>"
      ]
     },
     "execution_count": 15,
     "metadata": {},
     "output_type": "execute_result"
    },
    {
     "data": {
      "image/png": "[encoded data removed]",
      "text/plain": [
       "<Figure size 432x288 with 1 Axes>"
      ]
     },
     "metadata": {
      "needs_background": "light"
     },
     "output_type": "display_data"
    }
   ],
   "source": [
    "sns.countplot(x= data['gender'], hue= data['Churn'],palette='bright')"
   ]
  },
  {
   "cell_type": "markdown",
   "metadata": {},
   "source": [
    "- There are a lot of customers between boys and girls who survive"
   ]
  },
  {
   "cell_type": "code",
   "execution_count": 16,
   "metadata": {},
   "outputs": [
    {
     "data": {
      "text/plain": [
       "<AxesSubplot:xlabel='Partner', ylabel='count'>"
      ]
     },
     "execution_count": 16,
     "metadata": {},
     "output_type": "execute_result"
    },
    {
     "data": {
      "image/png": "[encoded data removed]",
      "text/plain": [
       "<Figure size 432x288 with 1 Axes>"
      ]
     },
     "metadata": {
      "needs_background": "light"
     },
     "output_type": "display_data"
    }
   ],
   "source": [
    "sns.countplot(x= data['Partner'], hue= data['Churn'],palette='bright')"
   ]
  },
  {
   "cell_type": "markdown",
   "metadata": {},
   "source": [
    "- Customers who have more partners don't churn"
   ]
  },
  {
   "cell_type": "code",
   "execution_count": 17,
   "metadata": {},
   "outputs": [
    {
     "data": {
      "text/plain": [
       "<AxesSubplot:xlabel='Dependents', ylabel='count'>"
      ]
     },
     "execution_count": 17,
     "metadata": {},
     "output_type": "execute_result"
    },
    {
     "data": {
      "image/png": "[encoded data removed]",
      "text/plain": [
       "<Figure size 432x288 with 1 Axes>"
      ]
     },
     "metadata": {
      "needs_background": "light"
     },
     "output_type": "display_data"
    }
   ],
   "source": [
    "sns.countplot(x= data['Dependents'], hue= data['Churn'],palette='bright')"
   ]
  },
  {
   "cell_type": "markdown",
   "metadata": {},
   "source": [
    "- Customers who do not have more dependents do not churn"
   ]
  },
  {
   "cell_type": "code",
   "execution_count": 18,
   "metadata": {},
   "outputs": [
    {
     "data": {
      "text/plain": [
       "<AxesSubplot:xlabel='SeniorCitizen', ylabel='count'>"
      ]
     },
     "execution_count": 18,
     "metadata": {},
     "output_type": "execute_result"
    },
    {
     "data": {
      "image/png": "[encoded data removed]",
      "text/plain": [
       "<Figure size 432x288 with 1 Axes>"
      ]
     },
     "metadata": {
      "needs_background": "light"
     },
     "output_type": "display_data"
    }
   ],
   "source": [
    "sns.countplot(x= data['SeniorCitizen'], hue= data['Churn'],palette='bright')"
   ]
  },
  {
   "cell_type": "markdown",
   "metadata": {},
   "source": [
    "- Most of the customers who don't churn come from young people"
   ]
  },
  {
   "cell_type": "code",
   "execution_count": 19,
   "metadata": {},
   "outputs": [
    {
     "data": {
      "image/png": "[encoded data removed]",
      "text/plain": [
       "<Figure size 468x187.2 with 1 Axes>"
      ]
     },
     "metadata": {
      "needs_background": "light"
     },
     "output_type": "display_data"
    }
   ],
   "source": [
    "ax = sns.catplot(y='InternetService', kind='count', data=data, height=2.6, aspect=2.5, orient='h')"
   ]
  },
  {
   "cell_type": "markdown",
   "metadata": {},
   "source": [
    "- Customers use internet services from fiber optic a lot"
   ]
  },
  {
   "cell_type": "code",
   "execution_count": 20,
   "metadata": {},
   "outputs": [
    {
     "data": {
      "image/png": "[encoded data removed]",
      "text/plain": [
       "<Figure size 468x187.2 with 1 Axes>"
      ]
     },
     "metadata": {
      "needs_background": "light"
     },
     "output_type": "display_data"
    }
   ],
   "source": [
    "ax = sns.catplot(y='Contract', kind='count', data=data, height=2.6, aspect=2.5, orient='h')"
   ]
  },
  {
   "cell_type": "markdown",
   "metadata": {},
   "source": [
    "- Many customers subscribe with a monthly payment"
   ]
  },
  {
   "cell_type": "code",
   "execution_count": 21,
   "metadata": {},
   "outputs": [
    {
     "data": {
      "image/png": "[encoded data removed]",
      "text/plain": [
       "<Figure size 864x576 with 1 Axes>"
      ]
     },
     "metadata": {},
     "output_type": "display_data"
    }
   ],
   "source": [
    "PALETTE = sns.color_palette(\"Set2\")\n",
    "sizes = dict(data['Churn'].value_counts())\n",
    "\n",
    "plt.figure(figsize=(12, 8))\n",
    "plt.title('Churn')\n",
    "plt.pie(sizes.values(), labels=sizes.keys(), autopct=\"%.1f%%\", pctdistance=0.85, shadow=True, colors=PALETTE)\n",
    "plt.legend(title='Churn', labels=sizes.keys(), bbox_to_anchor=(1, 1))\n",
    "\n",
    "\n",
    "my_circle=plt.Circle( (0,0), 0.7, color='white')\n",
    "p=plt.gcf()\n",
    "p.gca().add_artist(my_circle)\n",
    "\n",
    "plt.show()"
   ]
  },
  {
   "cell_type": "markdown",
   "metadata": {},
   "source": [
    "- Many customers don't churn or still survive"
   ]
  },
  {
   "cell_type": "code",
   "execution_count": 22,
   "metadata": {},
   "outputs": [],
   "source": [
    "def diagnostic_plots(df, variable):\n",
    "    # Define figure size\n",
    "    plt.figure(figsize=(16, 4))\n",
    "\n",
    "    # Histogram\n",
    "    plt.subplot(1, 2, 1)\n",
    "    sns.histplot(data[variable], bins=30)\n",
    "    plt.title('Histogram')\n",
    "\n",
    "    # Boxplot\n",
    "    plt.subplot(1, 2, 2)\n",
    "    sns.boxplot(y=data[variable])\n",
    "    plt.title('Boxplot')\n",
    "\n",
    "    plt.show()"
   ]
  },
  {
   "cell_type": "code",
   "execution_count": 23,
   "metadata": {},
   "outputs": [
    {
     "data": {
      "image/png": "[encoded data removed]",
      "text/plain": [
       "<Figure size 1152x288 with 2 Axes>"
      ]
     },
     "metadata": {
      "needs_background": "light"
     },
     "output_type": "display_data"
    },
    {
     "name": "stdout",
     "output_type": "stream",
     "text": [
      "\n",
      "Skewness Value :  0.23773083190513133\n"
     ]
    }
   ],
   "source": [
    "diagnostic_plots(data, 'tenure')\n",
    "print('\\nSkewness Value : ', data['tenure'].skew())"
   ]
  },
  {
   "cell_type": "code",
   "execution_count": 24,
   "metadata": {},
   "outputs": [
    {
     "data": {
      "image/png": "[encoded data removed]",
      "text/plain": [
       "<Figure size 1152x288 with 2 Axes>"
      ]
     },
     "metadata": {
      "needs_background": "light"
     },
     "output_type": "display_data"
    },
    {
     "name": "stdout",
     "output_type": "stream",
     "text": [
      "\n",
      "Skewness Value :  -0.22210292770166232\n"
     ]
    }
   ],
   "source": [
    "diagnostic_plots(data, 'MonthlyCharges')\n",
    "print('\\nSkewness Value : ', data['MonthlyCharges'].skew())"
   ]
  },
  {
   "cell_type": "code",
   "execution_count": 25,
   "metadata": {},
   "outputs": [
    {
     "data": {
      "image/png": "[encoded data removed]",
      "text/plain": [
       "<Figure size 1152x288 with 2 Axes>"
      ]
     },
     "metadata": {
      "needs_background": "light"
     },
     "output_type": "display_data"
    },
    {
     "name": "stdout",
     "output_type": "stream",
     "text": [
      "\n",
      "Skewness Value :  0.9616424997242504\n"
     ]
    }
   ],
   "source": [
    "diagnostic_plots(data, 'TotalCharges')\n",
    "print('\\nSkewness Value : ', data['TotalCharges'].skew())"
   ]
  },
  {
   "cell_type": "markdown",
   "metadata": {},
   "source": [
    "There are no outliers"
   ]
  },
  {
   "cell_type": "markdown",
   "metadata": {},
   "source": [
    "# Data Preprocessing"
   ]
  },
  {
   "cell_type": "code",
   "execution_count": 26,
   "metadata": {},
   "outputs": [],
   "source": [
    "X = df.drop(['Churn'], axis = 1)\n",
    "y = df['Churn']"
   ]
  },
  {
   "cell_type": "markdown",
   "metadata": {},
   "source": [
    "X is all the features in the dataset except the target/churn fitur feature"
   ]
  },
  {
   "cell_type": "markdown",
   "metadata": {},
   "source": [
    "### Splitting"
   ]
  },
  {
   "cell_type": "code",
   "execution_count": 27,
   "metadata": {},
   "outputs": [],
   "source": [
    "X_train, X_test, y_train, y_test = train_test_split(X, y, test_size=0.2, stratify=y, random_state=10)\n",
    "X_train, X_val, y_train, y_val = train_test_split(X_train, y_train, test_size=0.1, random_state=10)"
   ]
  },
  {
   "cell_type": "markdown",
   "metadata": {},
   "source": [
    "Splitting is done by dividing the data for train 80, test 20 and after that the train is split again for validation data"
   ]
  },
  {
   "cell_type": "markdown",
   "metadata": {},
   "source": [
    "### Splitting Kolum Numerik dan Kategori"
   ]
  },
  {
   "cell_type": "code",
   "execution_count": 28,
   "metadata": {},
   "outputs": [
    {
     "name": "stdout",
     "output_type": "stream",
     "text": [
      "Numeric Columns     :  ['SeniorCitizen', 'tenure', 'MonthlyCharges', 'TotalCharges']\n",
      "Categorical Columns :  ['gender', 'Partner', 'Dependents', 'PhoneService', 'MultipleLines', 'InternetService', 'OnlineSecurity', 'OnlineBackup', 'DeviceProtection', 'TechSupport', 'StreamingTV', 'StreamingMovies', 'Contract', 'PaperlessBilling', 'PaymentMethod']\n"
     ]
    }
   ],
   "source": [
    "num_cols = data._get_numeric_data().columns.tolist()\n",
    "cat_cols = data.select_dtypes(include=['object']).columns.tolist()\n",
    "cat_cols.remove('Churn')\n",
    "\n",
    "print('Numeric Columns     : ', num_cols)\n",
    "print('Categorical Columns : ', cat_cols)"
   ]
  },
  {
   "cell_type": "markdown",
   "metadata": {},
   "source": [
    "### Scaling"
   ]
  },
  {
   "cell_type": "code",
   "execution_count": 29,
   "metadata": {},
   "outputs": [],
   "source": [
    "X_train_num = X_train[num_cols].reset_index().drop(['index'], axis = 1)\n",
    "X_train_cat = X_train[cat_cols].reset_index().drop(['index'], axis = 1)"
   ]
  },
  {
   "cell_type": "code",
   "execution_count": 30,
   "metadata": {},
   "outputs": [],
   "source": [
    "X_test_num = X_test[num_cols].reset_index().drop(['index'], axis = 1)\n",
    "X_test_cat = X_test[cat_cols].reset_index().drop(['index'], axis = 1)"
   ]
  },
  {
   "cell_type": "code",
   "execution_count": 31,
   "metadata": {},
   "outputs": [],
   "source": [
    "X_val_num = X_val[num_cols].reset_index().drop(['index'], axis = 1)\n",
    "X_val_cat = X_val[cat_cols].reset_index().drop(['index'], axis = 1)"
   ]
  },
  {
   "cell_type": "code",
   "execution_count": 32,
   "metadata": {},
   "outputs": [],
   "source": [
    "scaler = MinMaxScaler()\n",
    "sc = scaler.fit(X_train_num)\n",
    "X_train_num_scaled = sc.transform(X_train_num)\n",
    "X_test_num_scaled = scaler.transform(X_test_num)\n",
    "X_val_num_scaled = scaler.transform(X_val_num)"
   ]
  },
  {
   "cell_type": "markdown",
   "metadata": {},
   "source": [
    "### Encoding"
   ]
  },
  {
   "cell_type": "code",
   "execution_count": 33,
   "metadata": {},
   "outputs": [],
   "source": [
    "ore = OrdinalEncoder()\n",
    "ore_t = ore.fit(X_train_cat)\n",
    "X_train_cat_ore = ore_t.transform(X_train_cat)\n",
    "X_test_cat_ore = ore.transform(X_test_cat)\n",
    "X_val_cat_ore = ore.transform(X_val_cat)"
   ]
  },
  {
   "cell_type": "code",
   "execution_count": 34,
   "metadata": {},
   "outputs": [],
   "source": [
    "X_train_final = np.concatenate([X_train_num_scaled, X_train_cat_ore], axis=1)\n",
    "X_test_final = np.concatenate([X_test_num_scaled, X_test_cat_ore], axis=1)\n",
    "X_val_final = np.concatenate([X_val_num_scaled, X_val_cat_ore], axis=1)"
   ]
  },
  {
   "cell_type": "code",
   "execution_count": 35,
   "metadata": {},
   "outputs": [],
   "source": [
    "label_encoder = LabelEncoder()\n",
    "\n",
    "y_train = label_encoder.fit_transform(y_train)\n",
    "y_test = label_encoder.transform(y_test)\n",
    "y_val = label_encoder.transform(y_val)"
   ]
  },
  {
   "cell_type": "markdown",
   "metadata": {},
   "source": [
    "# Model Definition"
   ]
  },
  {
   "cell_type": "code",
   "execution_count": 36,
   "metadata": {},
   "outputs": [
    {
     "data": {
      "text/plain": [
       "(5062, 19)"
      ]
     },
     "execution_count": 36,
     "metadata": {},
     "output_type": "execute_result"
    }
   ],
   "source": [
    "X_train_final.shape"
   ]
  },
  {
   "cell_type": "markdown",
   "metadata": {},
   "source": [
    "Viewing input layers"
   ]
  },
  {
   "cell_type": "code",
   "execution_count": 37,
   "metadata": {},
   "outputs": [],
   "source": [
    "input_fitur = Input(shape=(19,))\n",
    "hidden_1 = Dense(5, activation='relu')(input_fitur)\n",
    "output_layer = Dense(1, activation='sigmoid')(hidden_1)\n",
    "\n",
    "model = Model(inputs=input_fitur, outputs=output_layer)"
   ]
  },
  {
   "cell_type": "code",
   "execution_count": 38,
   "metadata": {},
   "outputs": [],
   "source": [
    "model.compile(loss='binary_crossentropy',\n",
    "              optimizer='adamax',\n",
    "              metrics=['accuracy'])"
   ]
  },
  {
   "cell_type": "markdown",
   "metadata": {},
   "source": [
    "for the second model, we will try to add a hidden layer as a hyperparameter"
   ]
  },
  {
   "cell_type": "code",
   "execution_count": 39,
   "metadata": {},
   "outputs": [],
   "source": [
    "model1 = Sequential()\n",
    "model1.add(Dense(5, activation='relu', input_shape=(19,)))\n",
    "model1.add(Dense(10, activation='relu'))\n",
    "model1.add(Dense(15, activation='relu'))\n",
    "model1.add(Dense(1, activation='sigmoid'))"
   ]
  },
  {
   "cell_type": "code",
   "execution_count": 40,
   "metadata": {},
   "outputs": [],
   "source": [
    "model1.compile(loss='binary_crossentropy',\n",
    "              optimizer='adam',\n",
    "              metrics=['accuracy'])"
   ]
  },
  {
   "cell_type": "markdown",
   "metadata": {},
   "source": [
    "# Model Training"
   ]
  },
  {
   "cell_type": "code",
   "execution_count": 41,
   "metadata": {},
   "outputs": [
    {
     "name": "stdout",
     "output_type": "stream",
     "text": [
      "Epoch 1/30\n",
      "159/159 [==============================] - 1s 3ms/step - loss: 0.9490 - accuracy: 0.4143 - val_loss: 0.7198 - val_accuracy: 0.5458\n",
      "Epoch 2/30\n",
      "159/159 [==============================] - 0s 2ms/step - loss: 0.6608 - accuracy: 0.6472 - val_loss: 0.6319 - val_accuracy: 0.6908\n",
      "Epoch 3/30\n",
      "159/159 [==============================] - 0s 2ms/step - loss: 0.6109 - accuracy: 0.7130 - val_loss: 0.5984 - val_accuracy: 0.7193\n",
      "Epoch 4/30\n",
      "159/159 [==============================] - 0s 1ms/step - loss: 0.5833 - accuracy: 0.7258 - val_loss: 0.5729 - val_accuracy: 0.7186\n",
      "Epoch 5/30\n",
      "159/159 [==============================] - 0s 2ms/step - loss: 0.5610 - accuracy: 0.7298 - val_loss: 0.5511 - val_accuracy: 0.7242\n",
      "Epoch 6/30\n",
      "159/159 [==============================] - 0s 2ms/step - loss: 0.5415 - accuracy: 0.7313 - val_loss: 0.5314 - val_accuracy: 0.7278\n",
      "Epoch 7/30\n",
      "159/159 [==============================] - 0s 2ms/step - loss: 0.5239 - accuracy: 0.7327 - val_loss: 0.5140 - val_accuracy: 0.7299\n",
      "Epoch 8/30\n",
      "159/159 [==============================] - 0s 2ms/step - loss: 0.5084 - accuracy: 0.7369 - val_loss: 0.4988 - val_accuracy: 0.7349\n",
      "Epoch 9/30\n",
      "159/159 [==============================] - 0s 2ms/step - loss: 0.4952 - accuracy: 0.7406 - val_loss: 0.4861 - val_accuracy: 0.7321\n",
      "Epoch 10/30\n",
      "159/159 [==============================] - 0s 1ms/step - loss: 0.4847 - accuracy: 0.7456 - val_loss: 0.4766 - val_accuracy: 0.7363\n",
      "Epoch 11/30\n",
      "159/159 [==============================] - 0s 2ms/step - loss: 0.4763 - accuracy: 0.7519 - val_loss: 0.4682 - val_accuracy: 0.7420\n",
      "Epoch 12/30\n",
      "159/159 [==============================] - 0s 2ms/step - loss: 0.4694 - accuracy: 0.7582 - val_loss: 0.4618 - val_accuracy: 0.7527\n",
      "Epoch 13/30\n",
      "159/159 [==============================] - 0s 2ms/step - loss: 0.4641 - accuracy: 0.7608 - val_loss: 0.4566 - val_accuracy: 0.7584\n",
      "Epoch 14/30\n",
      "159/159 [==============================] - 0s 2ms/step - loss: 0.4598 - accuracy: 0.7657 - val_loss: 0.4528 - val_accuracy: 0.7569\n",
      "Epoch 15/30\n",
      "159/159 [==============================] - 0s 2ms/step - loss: 0.4566 - accuracy: 0.7665 - val_loss: 0.4495 - val_accuracy: 0.7626\n",
      "Epoch 16/30\n",
      "159/159 [==============================] - 0s 2ms/step - loss: 0.4539 - accuracy: 0.7667 - val_loss: 0.4472 - val_accuracy: 0.7640\n",
      "Epoch 17/30\n",
      "159/159 [==============================] - 0s 2ms/step - loss: 0.4519 - accuracy: 0.7699 - val_loss: 0.4450 - val_accuracy: 0.7676\n",
      "Epoch 18/30\n",
      "159/159 [==============================] - 0s 1ms/step - loss: 0.4499 - accuracy: 0.7701 - val_loss: 0.4429 - val_accuracy: 0.7719\n",
      "Epoch 19/30\n",
      "159/159 [==============================] - 0s 1ms/step - loss: 0.4481 - accuracy: 0.7744 - val_loss: 0.4415 - val_accuracy: 0.7783\n",
      "Epoch 20/30\n",
      "159/159 [==============================] - 0s 1ms/step - loss: 0.4467 - accuracy: 0.7740 - val_loss: 0.4399 - val_accuracy: 0.7768\n",
      "Epoch 21/30\n",
      "159/159 [==============================] - 0s 1ms/step - loss: 0.4456 - accuracy: 0.7785 - val_loss: 0.4392 - val_accuracy: 0.7790\n",
      "Epoch 22/30\n",
      "159/159 [==============================] - 0s 1ms/step - loss: 0.4444 - accuracy: 0.7789 - val_loss: 0.4382 - val_accuracy: 0.7768\n",
      "Epoch 23/30\n",
      "159/159 [==============================] - 0s 1ms/step - loss: 0.4437 - accuracy: 0.7801 - val_loss: 0.4376 - val_accuracy: 0.7783\n",
      "Epoch 24/30\n",
      "159/159 [==============================] - 0s 1ms/step - loss: 0.4428 - accuracy: 0.7803 - val_loss: 0.4369 - val_accuracy: 0.7761\n",
      "Epoch 25/30\n",
      "159/159 [==============================] - 0s 2ms/step - loss: 0.4422 - accuracy: 0.7817 - val_loss: 0.4361 - val_accuracy: 0.7768\n",
      "Epoch 26/30\n",
      "159/159 [==============================] - 0s 2ms/step - loss: 0.4414 - accuracy: 0.7823 - val_loss: 0.4357 - val_accuracy: 0.7733\n",
      "Epoch 27/30\n",
      "159/159 [==============================] - 0s 2ms/step - loss: 0.4406 - accuracy: 0.7835 - val_loss: 0.4350 - val_accuracy: 0.7761\n",
      "Epoch 28/30\n",
      "159/159 [==============================] - 0s 1ms/step - loss: 0.4400 - accuracy: 0.7849 - val_loss: 0.4345 - val_accuracy: 0.7754\n",
      "Epoch 29/30\n",
      "159/159 [==============================] - 0s 2ms/step - loss: 0.4396 - accuracy: 0.7851 - val_loss: 0.4341 - val_accuracy: 0.7761\n",
      "Epoch 30/30\n",
      "159/159 [==============================] - 0s 1ms/step - loss: 0.4391 - accuracy: 0.7857 - val_loss: 0.4339 - val_accuracy: 0.7740\n"
     ]
    }
   ],
   "source": [
    "model_training = model.fit(X_train_final, y_train, epochs=30, validation_data=(X_test_final, y_test))"
   ]
  },
  {
   "cell_type": "code",
   "execution_count": 42,
   "metadata": {},
   "outputs": [
    {
     "name": "stdout",
     "output_type": "stream",
     "text": [
      "Epoch 1/100\n",
      "159/159 [==============================] - 1s 3ms/step - loss: 0.5607 - accuracy: 0.7345 - val_loss: 0.5259 - val_accuracy: 0.7342\n",
      "Epoch 2/100\n",
      "159/159 [==============================] - 0s 2ms/step - loss: 0.4906 - accuracy: 0.7353 - val_loss: 0.4591 - val_accuracy: 0.7356\n",
      "Epoch 3/100\n",
      "159/159 [==============================] - 0s 2ms/step - loss: 0.4574 - accuracy: 0.7568 - val_loss: 0.4475 - val_accuracy: 0.7647\n",
      "Epoch 4/100\n",
      "159/159 [==============================] - 0s 1ms/step - loss: 0.4497 - accuracy: 0.7691 - val_loss: 0.4443 - val_accuracy: 0.7719\n",
      "Epoch 5/100\n",
      "159/159 [==============================] - 0s 2ms/step - loss: 0.4431 - accuracy: 0.7789 - val_loss: 0.4399 - val_accuracy: 0.7719\n",
      "Epoch 6/100\n",
      "159/159 [==============================] - 0s 1ms/step - loss: 0.4395 - accuracy: 0.7776 - val_loss: 0.4362 - val_accuracy: 0.7768\n",
      "Epoch 7/100\n",
      "159/159 [==============================] - 0s 2ms/step - loss: 0.4361 - accuracy: 0.7864 - val_loss: 0.4367 - val_accuracy: 0.7804\n",
      "Epoch 8/100\n",
      "159/159 [==============================] - 0s 2ms/step - loss: 0.4349 - accuracy: 0.7845 - val_loss: 0.4326 - val_accuracy: 0.7797\n",
      "Epoch 9/100\n",
      "159/159 [==============================] - 0s 1ms/step - loss: 0.4314 - accuracy: 0.7902 - val_loss: 0.4310 - val_accuracy: 0.7783\n",
      "Epoch 10/100\n",
      "159/159 [==============================] - 0s 2ms/step - loss: 0.4290 - accuracy: 0.7924 - val_loss: 0.4315 - val_accuracy: 0.7811\n",
      "Epoch 11/100\n",
      "159/159 [==============================] - 0s 2ms/step - loss: 0.4274 - accuracy: 0.7912 - val_loss: 0.4287 - val_accuracy: 0.7868\n",
      "Epoch 12/100\n",
      "159/159 [==============================] - 0s 2ms/step - loss: 0.4267 - accuracy: 0.7944 - val_loss: 0.4273 - val_accuracy: 0.7839\n",
      "Epoch 13/100\n",
      "159/159 [==============================] - 0s 2ms/step - loss: 0.4246 - accuracy: 0.7973 - val_loss: 0.4277 - val_accuracy: 0.7832\n",
      "Epoch 14/100\n",
      "159/159 [==============================] - 0s 2ms/step - loss: 0.4232 - accuracy: 0.7969 - val_loss: 0.4284 - val_accuracy: 0.7868\n",
      "Epoch 15/100\n",
      "159/159 [==============================] - 0s 2ms/step - loss: 0.4213 - accuracy: 0.7975 - val_loss: 0.4255 - val_accuracy: 0.7896\n",
      "Epoch 16/100\n",
      "159/159 [==============================] - 0s 2ms/step - loss: 0.4211 - accuracy: 0.7953 - val_loss: 0.4257 - val_accuracy: 0.7918\n",
      "Epoch 17/100\n",
      "159/159 [==============================] - 0s 2ms/step - loss: 0.4215 - accuracy: 0.7973 - val_loss: 0.4251 - val_accuracy: 0.7918\n",
      "Epoch 18/100\n",
      "159/159 [==============================] - 0s 2ms/step - loss: 0.4204 - accuracy: 0.7985 - val_loss: 0.4239 - val_accuracy: 0.7939\n",
      "Epoch 19/100\n",
      "159/159 [==============================] - 0s 2ms/step - loss: 0.4193 - accuracy: 0.7965 - val_loss: 0.4246 - val_accuracy: 0.7918\n",
      "Epoch 20/100\n",
      "159/159 [==============================] - 0s 2ms/step - loss: 0.4182 - accuracy: 0.8005 - val_loss: 0.4233 - val_accuracy: 0.7932\n",
      "Epoch 21/100\n",
      "159/159 [==============================] - 0s 2ms/step - loss: 0.4178 - accuracy: 0.7997 - val_loss: 0.4242 - val_accuracy: 0.7967\n",
      "Epoch 22/100\n",
      "159/159 [==============================] - 0s 2ms/step - loss: 0.4171 - accuracy: 0.7989 - val_loss: 0.4254 - val_accuracy: 0.7939\n",
      "Epoch 23/100\n",
      "159/159 [==============================] - 0s 2ms/step - loss: 0.4180 - accuracy: 0.8023 - val_loss: 0.4252 - val_accuracy: 0.7939\n",
      "Epoch 24/100\n",
      "159/159 [==============================] - 0s 2ms/step - loss: 0.4166 - accuracy: 0.8001 - val_loss: 0.4254 - val_accuracy: 0.7953\n",
      "Epoch 25/100\n",
      "159/159 [==============================] - 0s 2ms/step - loss: 0.4167 - accuracy: 0.7997 - val_loss: 0.4265 - val_accuracy: 0.7918\n",
      "Epoch 26/100\n",
      "159/159 [==============================] - 0s 2ms/step - loss: 0.4150 - accuracy: 0.8032 - val_loss: 0.4278 - val_accuracy: 0.7925\n",
      "Epoch 27/100\n",
      "159/159 [==============================] - 0s 2ms/step - loss: 0.4154 - accuracy: 0.8017 - val_loss: 0.4234 - val_accuracy: 0.7960\n",
      "Epoch 28/100\n",
      "159/159 [==============================] - 0s 2ms/step - loss: 0.4153 - accuracy: 0.8015 - val_loss: 0.4283 - val_accuracy: 0.7918\n",
      "Epoch 29/100\n",
      "159/159 [==============================] - 0s 2ms/step - loss: 0.4165 - accuracy: 0.8001 - val_loss: 0.4229 - val_accuracy: 0.7982\n",
      "Epoch 30/100\n",
      "159/159 [==============================] - 0s 2ms/step - loss: 0.4137 - accuracy: 0.8032 - val_loss: 0.4293 - val_accuracy: 0.7875\n",
      "Epoch 31/100\n",
      "159/159 [==============================] - 0s 2ms/step - loss: 0.4154 - accuracy: 0.8011 - val_loss: 0.4247 - val_accuracy: 0.7960\n",
      "Epoch 32/100\n",
      "159/159 [==============================] - 0s 1ms/step - loss: 0.4148 - accuracy: 0.8040 - val_loss: 0.4228 - val_accuracy: 0.8024\n",
      "Epoch 33/100\n",
      "159/159 [==============================] - 0s 2ms/step - loss: 0.4142 - accuracy: 0.8032 - val_loss: 0.4269 - val_accuracy: 0.7918\n",
      "Epoch 34/100\n",
      "159/159 [==============================] - 0s 2ms/step - loss: 0.4143 - accuracy: 0.8017 - val_loss: 0.4227 - val_accuracy: 0.8045\n",
      "Epoch 35/100\n",
      "159/159 [==============================] - 0s 2ms/step - loss: 0.4145 - accuracy: 0.8024 - val_loss: 0.4226 - val_accuracy: 0.8031\n",
      "Epoch 36/100\n",
      "159/159 [==============================] - 0s 2ms/step - loss: 0.4149 - accuracy: 0.8032 - val_loss: 0.4227 - val_accuracy: 0.7982\n",
      "Epoch 37/100\n",
      "159/159 [==============================] - 0s 2ms/step - loss: 0.4140 - accuracy: 0.8023 - val_loss: 0.4244 - val_accuracy: 0.7982\n",
      "Epoch 38/100\n",
      "159/159 [==============================] - 0s 2ms/step - loss: 0.4123 - accuracy: 0.8040 - val_loss: 0.4240 - val_accuracy: 0.7946\n",
      "Epoch 39/100\n",
      "159/159 [==============================] - 0s 2ms/step - loss: 0.4128 - accuracy: 0.8023 - val_loss: 0.4230 - val_accuracy: 0.8024\n",
      "Epoch 40/100\n",
      "159/159 [==============================] - 0s 2ms/step - loss: 0.4137 - accuracy: 0.8034 - val_loss: 0.4248 - val_accuracy: 0.7996\n",
      "Epoch 41/100\n",
      "159/159 [==============================] - 0s 2ms/step - loss: 0.4121 - accuracy: 0.8023 - val_loss: 0.4261 - val_accuracy: 0.7974\n",
      "Epoch 42/100\n",
      "159/159 [==============================] - 0s 2ms/step - loss: 0.4127 - accuracy: 0.8024 - val_loss: 0.4253 - val_accuracy: 0.7974\n",
      "Epoch 43/100\n",
      "159/159 [==============================] - 0s 2ms/step - loss: 0.4124 - accuracy: 0.8050 - val_loss: 0.4236 - val_accuracy: 0.8024\n",
      "Epoch 44/100\n",
      "159/159 [==============================] - 0s 2ms/step - loss: 0.4119 - accuracy: 0.8023 - val_loss: 0.4229 - val_accuracy: 0.7932\n",
      "Epoch 45/100\n",
      "159/159 [==============================] - 0s 2ms/step - loss: 0.4116 - accuracy: 0.8038 - val_loss: 0.4228 - val_accuracy: 0.8017\n",
      "Epoch 46/100\n",
      "159/159 [==============================] - 0s 2ms/step - loss: 0.4110 - accuracy: 0.8026 - val_loss: 0.4232 - val_accuracy: 0.7996\n",
      "Epoch 47/100\n",
      "159/159 [==============================] - 0s 2ms/step - loss: 0.4117 - accuracy: 0.8028 - val_loss: 0.4221 - val_accuracy: 0.8003\n",
      "Epoch 48/100\n",
      "159/159 [==============================] - 0s 2ms/step - loss: 0.4119 - accuracy: 0.8030 - val_loss: 0.4237 - val_accuracy: 0.7989\n",
      "Epoch 49/100\n",
      "159/159 [==============================] - 0s 2ms/step - loss: 0.4112 - accuracy: 0.8040 - val_loss: 0.4241 - val_accuracy: 0.7960\n",
      "Epoch 50/100\n",
      "159/159 [==============================] - 0s 2ms/step - loss: 0.4108 - accuracy: 0.8064 - val_loss: 0.4236 - val_accuracy: 0.7946\n",
      "Epoch 51/100\n",
      "159/159 [==============================] - 0s 2ms/step - loss: 0.4111 - accuracy: 0.8050 - val_loss: 0.4222 - val_accuracy: 0.8010\n",
      "Epoch 52/100\n",
      "159/159 [==============================] - 0s 2ms/step - loss: 0.4123 - accuracy: 0.8046 - val_loss: 0.4258 - val_accuracy: 0.7982\n",
      "Epoch 53/100\n",
      "159/159 [==============================] - 0s 2ms/step - loss: 0.4104 - accuracy: 0.8042 - val_loss: 0.4267 - val_accuracy: 0.7953\n",
      "Epoch 54/100\n",
      "159/159 [==============================] - 0s 2ms/step - loss: 0.4103 - accuracy: 0.8060 - val_loss: 0.4238 - val_accuracy: 0.8017\n",
      "Epoch 55/100\n",
      "159/159 [==============================] - 0s 2ms/step - loss: 0.4107 - accuracy: 0.8046 - val_loss: 0.4229 - val_accuracy: 0.7989\n",
      "Epoch 56/100\n",
      "159/159 [==============================] - 0s 2ms/step - loss: 0.4106 - accuracy: 0.8050 - val_loss: 0.4230 - val_accuracy: 0.7989\n",
      "Epoch 57/100\n",
      "159/159 [==============================] - 0s 2ms/step - loss: 0.4094 - accuracy: 0.8062 - val_loss: 0.4228 - val_accuracy: 0.7974\n",
      "Epoch 58/100\n",
      "159/159 [==============================] - 0s 2ms/step - loss: 0.4103 - accuracy: 0.8024 - val_loss: 0.4242 - val_accuracy: 0.8003\n",
      "Epoch 59/100\n",
      "159/159 [==============================] - 0s 2ms/step - loss: 0.4110 - accuracy: 0.8024 - val_loss: 0.4253 - val_accuracy: 0.7946\n",
      "Epoch 60/100\n",
      "159/159 [==============================] - 0s 2ms/step - loss: 0.4105 - accuracy: 0.8030 - val_loss: 0.4254 - val_accuracy: 0.7982\n",
      "Epoch 61/100\n",
      "159/159 [==============================] - 0s 2ms/step - loss: 0.4095 - accuracy: 0.8024 - val_loss: 0.4239 - val_accuracy: 0.7982\n",
      "Epoch 62/100\n",
      "159/159 [==============================] - 0s 2ms/step - loss: 0.4104 - accuracy: 0.8066 - val_loss: 0.4233 - val_accuracy: 0.7974\n",
      "Epoch 63/100\n",
      "159/159 [==============================] - 0s 2ms/step - loss: 0.4089 - accuracy: 0.8068 - val_loss: 0.4230 - val_accuracy: 0.8010\n",
      "Epoch 64/100\n",
      "159/159 [==============================] - 0s 2ms/step - loss: 0.4090 - accuracy: 0.8048 - val_loss: 0.4308 - val_accuracy: 0.7910\n",
      "Epoch 65/100\n",
      "159/159 [==============================] - 0s 2ms/step - loss: 0.4093 - accuracy: 0.8072 - val_loss: 0.4235 - val_accuracy: 0.8003\n",
      "Epoch 66/100\n",
      "159/159 [==============================] - 0s 2ms/step - loss: 0.4088 - accuracy: 0.8064 - val_loss: 0.4238 - val_accuracy: 0.7939\n",
      "Epoch 67/100\n",
      "159/159 [==============================] - 0s 2ms/step - loss: 0.4093 - accuracy: 0.8056 - val_loss: 0.4264 - val_accuracy: 0.7967\n",
      "Epoch 68/100\n",
      "159/159 [==============================] - 0s 2ms/step - loss: 0.4086 - accuracy: 0.8074 - val_loss: 0.4235 - val_accuracy: 0.7939\n",
      "Epoch 69/100\n",
      "159/159 [==============================] - 0s 2ms/step - loss: 0.4085 - accuracy: 0.8072 - val_loss: 0.4260 - val_accuracy: 0.7953\n",
      "Epoch 70/100\n",
      "159/159 [==============================] - 0s 2ms/step - loss: 0.4083 - accuracy: 0.8052 - val_loss: 0.4239 - val_accuracy: 0.7989\n",
      "Epoch 71/100\n",
      "159/159 [==============================] - 0s 2ms/step - loss: 0.4078 - accuracy: 0.8046 - val_loss: 0.4258 - val_accuracy: 0.7896\n",
      "Epoch 72/100\n",
      "159/159 [==============================] - 0s 2ms/step - loss: 0.4090 - accuracy: 0.8054 - val_loss: 0.4253 - val_accuracy: 0.7932\n",
      "Epoch 73/100\n",
      "159/159 [==============================] - 0s 2ms/step - loss: 0.4076 - accuracy: 0.8066 - val_loss: 0.4252 - val_accuracy: 0.7925\n",
      "Epoch 74/100\n",
      "159/159 [==============================] - 0s 2ms/step - loss: 0.4079 - accuracy: 0.8078 - val_loss: 0.4259 - val_accuracy: 0.7939\n",
      "Epoch 75/100\n",
      "159/159 [==============================] - 0s 2ms/step - loss: 0.4083 - accuracy: 0.8042 - val_loss: 0.4254 - val_accuracy: 0.7960\n",
      "Epoch 76/100\n",
      "159/159 [==============================] - 0s 2ms/step - loss: 0.4080 - accuracy: 0.8078 - val_loss: 0.4244 - val_accuracy: 0.7974\n",
      "Epoch 77/100\n",
      "159/159 [==============================] - 0s 2ms/step - loss: 0.4071 - accuracy: 0.8076 - val_loss: 0.4308 - val_accuracy: 0.7967\n",
      "Epoch 78/100\n",
      "159/159 [==============================] - 0s 2ms/step - loss: 0.4073 - accuracy: 0.8068 - val_loss: 0.4279 - val_accuracy: 0.7967\n",
      "Epoch 79/100\n",
      "159/159 [==============================] - 0s 2ms/step - loss: 0.4070 - accuracy: 0.8088 - val_loss: 0.4298 - val_accuracy: 0.7903\n",
      "Epoch 80/100\n",
      "159/159 [==============================] - 0s 2ms/step - loss: 0.4080 - accuracy: 0.8084 - val_loss: 0.4304 - val_accuracy: 0.7925\n",
      "Epoch 81/100\n",
      "159/159 [==============================] - 0s 2ms/step - loss: 0.4075 - accuracy: 0.8056 - val_loss: 0.4251 - val_accuracy: 0.7989\n",
      "Epoch 82/100\n",
      "159/159 [==============================] - 0s 2ms/step - loss: 0.4070 - accuracy: 0.8072 - val_loss: 0.4250 - val_accuracy: 0.7960\n",
      "Epoch 83/100\n",
      "159/159 [==============================] - 0s 2ms/step - loss: 0.4076 - accuracy: 0.8070 - val_loss: 0.4283 - val_accuracy: 0.7953\n",
      "Epoch 84/100\n",
      "159/159 [==============================] - 0s 2ms/step - loss: 0.4066 - accuracy: 0.8086 - val_loss: 0.4281 - val_accuracy: 0.7939\n",
      "Epoch 85/100\n",
      "159/159 [==============================] - 0s 2ms/step - loss: 0.4079 - accuracy: 0.8066 - val_loss: 0.4256 - val_accuracy: 0.7967\n",
      "Epoch 86/100\n",
      "159/159 [==============================] - 0s 2ms/step - loss: 0.4058 - accuracy: 0.8084 - val_loss: 0.4322 - val_accuracy: 0.7932\n",
      "Epoch 87/100\n",
      "159/159 [==============================] - 0s 2ms/step - loss: 0.4059 - accuracy: 0.8066 - val_loss: 0.4269 - val_accuracy: 0.7974\n",
      "Epoch 88/100\n",
      "159/159 [==============================] - 0s 2ms/step - loss: 0.4069 - accuracy: 0.8036 - val_loss: 0.4318 - val_accuracy: 0.7953\n",
      "Epoch 89/100\n",
      "159/159 [==============================] - 0s 2ms/step - loss: 0.4045 - accuracy: 0.8082 - val_loss: 0.4254 - val_accuracy: 0.7939\n",
      "Epoch 90/100\n",
      "159/159 [==============================] - 0s 2ms/step - loss: 0.4053 - accuracy: 0.8102 - val_loss: 0.4255 - val_accuracy: 0.7953\n",
      "Epoch 91/100\n",
      "159/159 [==============================] - 0s 2ms/step - loss: 0.4051 - accuracy: 0.8105 - val_loss: 0.4289 - val_accuracy: 0.7967\n",
      "Epoch 92/100\n",
      "159/159 [==============================] - 0s 2ms/step - loss: 0.4050 - accuracy: 0.8092 - val_loss: 0.4253 - val_accuracy: 0.7974\n",
      "Epoch 93/100\n",
      "159/159 [==============================] - 0s 2ms/step - loss: 0.4061 - accuracy: 0.8090 - val_loss: 0.4249 - val_accuracy: 0.7989\n",
      "Epoch 94/100\n",
      "159/159 [==============================] - 0s 2ms/step - loss: 0.4050 - accuracy: 0.8088 - val_loss: 0.4246 - val_accuracy: 0.7996\n",
      "Epoch 95/100\n",
      "159/159 [==============================] - 0s 2ms/step - loss: 0.4049 - accuracy: 0.8084 - val_loss: 0.4306 - val_accuracy: 0.7946\n",
      "Epoch 96/100\n",
      "159/159 [==============================] - 0s 2ms/step - loss: 0.4043 - accuracy: 0.8090 - val_loss: 0.4285 - val_accuracy: 0.7982\n",
      "Epoch 97/100\n",
      "159/159 [==============================] - 0s 2ms/step - loss: 0.4044 - accuracy: 0.8096 - val_loss: 0.4252 - val_accuracy: 0.7967\n",
      "Epoch 98/100\n",
      "159/159 [==============================] - 0s 2ms/step - loss: 0.4038 - accuracy: 0.8119 - val_loss: 0.4255 - val_accuracy: 0.7967\n",
      "Epoch 99/100\n",
      "159/159 [==============================] - 0s 2ms/step - loss: 0.4028 - accuracy: 0.8111 - val_loss: 0.4282 - val_accuracy: 0.7982\n",
      "Epoch 100/100\n",
      "159/159 [==============================] - 0s 2ms/step - loss: 0.4031 - accuracy: 0.8107 - val_loss: 0.4259 - val_accuracy: 0.7953\n"
     ]
    }
   ],
   "source": [
    "model_training1 = model1.fit(X_train_final, y_train, epochs=100, validation_data=(X_test_final, y_test))"
   ]
  },
  {
   "cell_type": "code",
   "execution_count": 43,
   "metadata": {},
   "outputs": [
    {
     "name": "stdout",
     "output_type": "stream",
     "text": [
      "Model: \"model\"\n",
      "_________________________________________________________________\n",
      " Layer (type)                Output Shape              Param #   \n",
      "=================================================================\n",
      " input_1 (InputLayer)        [(None, 19)]              0         \n",
      "                                                                 \n",
      " dense (Dense)               (None, 5)                 100       \n",
      "                                                                 \n",
      " dense_1 (Dense)             (None, 1)                 6         \n",
      "                                                                 \n",
      "=================================================================\n",
      "Total params: 106\n",
      "Trainable params: 106\n",
      "Non-trainable params: 0\n",
      "_________________________________________________________________\n"
     ]
    }
   ],
   "source": [
    "model.summary()"
   ]
  },
  {
   "cell_type": "code",
   "execution_count": 44,
   "metadata": {},
   "outputs": [
    {
     "name": "stdout",
     "output_type": "stream",
     "text": [
      "Model: \"sequential\"\n",
      "_________________________________________________________________\n",
      " Layer (type)                Output Shape              Param #   \n",
      "=================================================================\n",
      " dense_2 (Dense)             (None, 5)                 100       \n",
      "                                                                 \n",
      " dense_3 (Dense)             (None, 10)                60        \n",
      "                                                                 \n",
      " dense_4 (Dense)             (None, 15)                165       \n",
      "                                                                 \n",
      " dense_5 (Dense)             (None, 1)                 16        \n",
      "                                                                 \n",
      "=================================================================\n",
      "Total params: 341\n",
      "Trainable params: 341\n",
      "Non-trainable params: 0\n",
      "_________________________________________________________________\n"
     ]
    }
   ],
   "source": [
    "model1.summary()"
   ]
  },
  {
   "cell_type": "markdown",
   "metadata": {},
   "source": [
    "# Model Evaluation"
   ]
  },
  {
   "cell_type": "code",
   "execution_count": 45,
   "metadata": {},
   "outputs": [
    {
     "data": {
      "text/html": [
       "<div>\n",
       "<style scoped>\n",
       "    .dataframe tbody tr th:only-of-type {\n",
       "        vertical-align: middle;\n",
       "    }\n",
       "\n",
       "    .dataframe tbody tr th {\n",
       "        vertical-align: top;\n",
       "    }\n",
       "\n",
       "    .dataframe thead th {\n",
       "        text-align: right;\n",
       "    }\n",
       "</style>\n",
       "<table border=\"1\" class=\"dataframe\">\n",
       "  <thead>\n",
       "    <tr style=\"text-align: right;\">\n",
       "      <th></th>\n",
       "      <th>loss</th>\n",
       "      <th>accuracy</th>\n",
       "      <th>val_loss</th>\n",
       "      <th>val_accuracy</th>\n",
       "    </tr>\n",
       "  </thead>\n",
       "  <tbody>\n",
       "    <tr>\n",
       "      <th>0</th>\n",
       "      <td>0.949042</td>\n",
       "      <td>0.414263</td>\n",
       "      <td>0.719840</td>\n",
       "      <td>0.545842</td>\n",
       "    </tr>\n",
       "    <tr>\n",
       "      <th>1</th>\n",
       "      <td>0.660799</td>\n",
       "      <td>0.647175</td>\n",
       "      <td>0.631914</td>\n",
       "      <td>0.690832</td>\n",
       "    </tr>\n",
       "    <tr>\n",
       "      <th>2</th>\n",
       "      <td>0.610858</td>\n",
       "      <td>0.712959</td>\n",
       "      <td>0.598369</td>\n",
       "      <td>0.719261</td>\n",
       "    </tr>\n",
       "    <tr>\n",
       "      <th>3</th>\n",
       "      <td>0.583345</td>\n",
       "      <td>0.725800</td>\n",
       "      <td>0.572932</td>\n",
       "      <td>0.718550</td>\n",
       "    </tr>\n",
       "    <tr>\n",
       "      <th>4</th>\n",
       "      <td>0.560958</td>\n",
       "      <td>0.729751</td>\n",
       "      <td>0.551147</td>\n",
       "      <td>0.724236</td>\n",
       "    </tr>\n",
       "    <tr>\n",
       "      <th>5</th>\n",
       "      <td>0.541474</td>\n",
       "      <td>0.731331</td>\n",
       "      <td>0.531424</td>\n",
       "      <td>0.727790</td>\n",
       "    </tr>\n",
       "    <tr>\n",
       "      <th>6</th>\n",
       "      <td>0.523876</td>\n",
       "      <td>0.732714</td>\n",
       "      <td>0.513955</td>\n",
       "      <td>0.729922</td>\n",
       "    </tr>\n",
       "    <tr>\n",
       "      <th>7</th>\n",
       "      <td>0.508382</td>\n",
       "      <td>0.736863</td>\n",
       "      <td>0.498849</td>\n",
       "      <td>0.734897</td>\n",
       "    </tr>\n",
       "    <tr>\n",
       "      <th>8</th>\n",
       "      <td>0.495214</td>\n",
       "      <td>0.740616</td>\n",
       "      <td>0.486076</td>\n",
       "      <td>0.732054</td>\n",
       "    </tr>\n",
       "    <tr>\n",
       "      <th>9</th>\n",
       "      <td>0.484743</td>\n",
       "      <td>0.745555</td>\n",
       "      <td>0.476625</td>\n",
       "      <td>0.736318</td>\n",
       "    </tr>\n",
       "    <tr>\n",
       "      <th>10</th>\n",
       "      <td>0.476264</td>\n",
       "      <td>0.751877</td>\n",
       "      <td>0.468153</td>\n",
       "      <td>0.742004</td>\n",
       "    </tr>\n",
       "    <tr>\n",
       "      <th>11</th>\n",
       "      <td>0.469401</td>\n",
       "      <td>0.758198</td>\n",
       "      <td>0.461791</td>\n",
       "      <td>0.752665</td>\n",
       "    </tr>\n",
       "    <tr>\n",
       "      <th>12</th>\n",
       "      <td>0.464066</td>\n",
       "      <td>0.760767</td>\n",
       "      <td>0.456601</td>\n",
       "      <td>0.758351</td>\n",
       "    </tr>\n",
       "    <tr>\n",
       "      <th>13</th>\n",
       "      <td>0.459794</td>\n",
       "      <td>0.765705</td>\n",
       "      <td>0.452796</td>\n",
       "      <td>0.756930</td>\n",
       "    </tr>\n",
       "    <tr>\n",
       "      <th>14</th>\n",
       "      <td>0.456587</td>\n",
       "      <td>0.766495</td>\n",
       "      <td>0.449502</td>\n",
       "      <td>0.762616</td>\n",
       "    </tr>\n",
       "    <tr>\n",
       "      <th>15</th>\n",
       "      <td>0.453914</td>\n",
       "      <td>0.766693</td>\n",
       "      <td>0.447207</td>\n",
       "      <td>0.764037</td>\n",
       "    </tr>\n",
       "    <tr>\n",
       "      <th>16</th>\n",
       "      <td>0.451850</td>\n",
       "      <td>0.769854</td>\n",
       "      <td>0.444974</td>\n",
       "      <td>0.767591</td>\n",
       "    </tr>\n",
       "    <tr>\n",
       "      <th>17</th>\n",
       "      <td>0.449903</td>\n",
       "      <td>0.770051</td>\n",
       "      <td>0.442871</td>\n",
       "      <td>0.771855</td>\n",
       "    </tr>\n",
       "    <tr>\n",
       "      <th>18</th>\n",
       "      <td>0.448133</td>\n",
       "      <td>0.774397</td>\n",
       "      <td>0.441516</td>\n",
       "      <td>0.778252</td>\n",
       "    </tr>\n",
       "    <tr>\n",
       "      <th>19</th>\n",
       "      <td>0.446674</td>\n",
       "      <td>0.774002</td>\n",
       "      <td>0.439945</td>\n",
       "      <td>0.776830</td>\n",
       "    </tr>\n",
       "    <tr>\n",
       "      <th>20</th>\n",
       "      <td>0.445570</td>\n",
       "      <td>0.778546</td>\n",
       "      <td>0.439186</td>\n",
       "      <td>0.778962</td>\n",
       "    </tr>\n",
       "    <tr>\n",
       "      <th>21</th>\n",
       "      <td>0.444438</td>\n",
       "      <td>0.778941</td>\n",
       "      <td>0.438226</td>\n",
       "      <td>0.776830</td>\n",
       "    </tr>\n",
       "    <tr>\n",
       "      <th>22</th>\n",
       "      <td>0.443672</td>\n",
       "      <td>0.780126</td>\n",
       "      <td>0.437599</td>\n",
       "      <td>0.778252</td>\n",
       "    </tr>\n",
       "    <tr>\n",
       "      <th>23</th>\n",
       "      <td>0.442818</td>\n",
       "      <td>0.780324</td>\n",
       "      <td>0.436868</td>\n",
       "      <td>0.776119</td>\n",
       "    </tr>\n",
       "    <tr>\n",
       "      <th>24</th>\n",
       "      <td>0.442195</td>\n",
       "      <td>0.781707</td>\n",
       "      <td>0.436134</td>\n",
       "      <td>0.776830</td>\n",
       "    </tr>\n",
       "    <tr>\n",
       "      <th>25</th>\n",
       "      <td>0.441375</td>\n",
       "      <td>0.782299</td>\n",
       "      <td>0.435651</td>\n",
       "      <td>0.773276</td>\n",
       "    </tr>\n",
       "    <tr>\n",
       "      <th>26</th>\n",
       "      <td>0.440639</td>\n",
       "      <td>0.783485</td>\n",
       "      <td>0.435032</td>\n",
       "      <td>0.776119</td>\n",
       "    </tr>\n",
       "    <tr>\n",
       "      <th>27</th>\n",
       "      <td>0.439983</td>\n",
       "      <td>0.784868</td>\n",
       "      <td>0.434519</td>\n",
       "      <td>0.775409</td>\n",
       "    </tr>\n",
       "    <tr>\n",
       "      <th>28</th>\n",
       "      <td>0.439642</td>\n",
       "      <td>0.785065</td>\n",
       "      <td>0.434085</td>\n",
       "      <td>0.776119</td>\n",
       "    </tr>\n",
       "    <tr>\n",
       "      <th>29</th>\n",
       "      <td>0.439145</td>\n",
       "      <td>0.785658</td>\n",
       "      <td>0.433916</td>\n",
       "      <td>0.773987</td>\n",
       "    </tr>\n",
       "  </tbody>\n",
       "</table>\n",
       "</div>"
      ],
      "text/plain": [
       "        loss  accuracy  val_loss  val_accuracy\n",
       "0   0.949042  0.414263  0.719840      0.545842\n",
       "1   0.660799  0.647175  0.631914      0.690832\n",
       "2   0.610858  0.712959  0.598369      0.719261\n",
       "3   0.583345  0.725800  0.572932      0.718550\n",
       "4   0.560958  0.729751  0.551147      0.724236\n",
       "5   0.541474  0.731331  0.531424      0.727790\n",
       "6   0.523876  0.732714  0.513955      0.729922\n",
       "7   0.508382  0.736863  0.498849      0.734897\n",
       "8   0.495214  0.740616  0.486076      0.732054\n",
       "9   0.484743  0.745555  0.476625      0.736318\n",
       "10  0.476264  0.751877  0.468153      0.742004\n",
       "11  0.469401  0.758198  0.461791      0.752665\n",
       "12  0.464066  0.760767  0.456601      0.758351\n",
       "13  0.459794  0.765705  0.452796      0.756930\n",
       "14  0.456587  0.766495  0.449502      0.762616\n",
       "15  0.453914  0.766693  0.447207      0.764037\n",
       "16  0.451850  0.769854  0.444974      0.767591\n",
       "17  0.449903  0.770051  0.442871      0.771855\n",
       "18  0.448133  0.774397  0.441516      0.778252\n",
       "19  0.446674  0.774002  0.439945      0.776830\n",
       "20  0.445570  0.778546  0.439186      0.778962\n",
       "21  0.444438  0.778941  0.438226      0.776830\n",
       "22  0.443672  0.780126  0.437599      0.778252\n",
       "23  0.442818  0.780324  0.436868      0.776119\n",
       "24  0.442195  0.781707  0.436134      0.776830\n",
       "25  0.441375  0.782299  0.435651      0.773276\n",
       "26  0.440639  0.783485  0.435032      0.776119\n",
       "27  0.439983  0.784868  0.434519      0.775409\n",
       "28  0.439642  0.785065  0.434085      0.776119\n",
       "29  0.439145  0.785658  0.433916      0.773987"
      ]
     },
     "execution_count": 45,
     "metadata": {},
     "output_type": "execute_result"
    }
   ],
   "source": [
    "metrics = pd.DataFrame(model_training.history)\n",
    "metrics"
   ]
  },
  {
   "cell_type": "code",
   "execution_count": 46,
   "metadata": {},
   "outputs": [
    {
     "data": {
      "text/html": [
       "<div>\n",
       "<style scoped>\n",
       "    .dataframe tbody tr th:only-of-type {\n",
       "        vertical-align: middle;\n",
       "    }\n",
       "\n",
       "    .dataframe tbody tr th {\n",
       "        vertical-align: top;\n",
       "    }\n",
       "\n",
       "    .dataframe thead th {\n",
       "        text-align: right;\n",
       "    }\n",
       "</style>\n",
       "<table border=\"1\" class=\"dataframe\">\n",
       "  <thead>\n",
       "    <tr style=\"text-align: right;\">\n",
       "      <th></th>\n",
       "      <th>loss</th>\n",
       "      <th>accuracy</th>\n",
       "      <th>val_loss</th>\n",
       "      <th>val_accuracy</th>\n",
       "    </tr>\n",
       "  </thead>\n",
       "  <tbody>\n",
       "    <tr>\n",
       "      <th>0</th>\n",
       "      <td>0.560715</td>\n",
       "      <td>0.734492</td>\n",
       "      <td>0.525889</td>\n",
       "      <td>0.734186</td>\n",
       "    </tr>\n",
       "    <tr>\n",
       "      <th>1</th>\n",
       "      <td>0.490635</td>\n",
       "      <td>0.735282</td>\n",
       "      <td>0.459106</td>\n",
       "      <td>0.735608</td>\n",
       "    </tr>\n",
       "    <tr>\n",
       "      <th>2</th>\n",
       "      <td>0.457414</td>\n",
       "      <td>0.756815</td>\n",
       "      <td>0.447522</td>\n",
       "      <td>0.764748</td>\n",
       "    </tr>\n",
       "    <tr>\n",
       "      <th>3</th>\n",
       "      <td>0.449678</td>\n",
       "      <td>0.769064</td>\n",
       "      <td>0.444314</td>\n",
       "      <td>0.771855</td>\n",
       "    </tr>\n",
       "    <tr>\n",
       "      <th>4</th>\n",
       "      <td>0.443125</td>\n",
       "      <td>0.778941</td>\n",
       "      <td>0.439902</td>\n",
       "      <td>0.771855</td>\n",
       "    </tr>\n",
       "    <tr>\n",
       "      <th>...</th>\n",
       "      <td>...</td>\n",
       "      <td>...</td>\n",
       "      <td>...</td>\n",
       "      <td>...</td>\n",
       "    </tr>\n",
       "    <tr>\n",
       "      <th>95</th>\n",
       "      <td>0.404340</td>\n",
       "      <td>0.808969</td>\n",
       "      <td>0.428512</td>\n",
       "      <td>0.798152</td>\n",
       "    </tr>\n",
       "    <tr>\n",
       "      <th>96</th>\n",
       "      <td>0.404393</td>\n",
       "      <td>0.809561</td>\n",
       "      <td>0.425246</td>\n",
       "      <td>0.796731</td>\n",
       "    </tr>\n",
       "    <tr>\n",
       "      <th>97</th>\n",
       "      <td>0.403825</td>\n",
       "      <td>0.811932</td>\n",
       "      <td>0.425509</td>\n",
       "      <td>0.796731</td>\n",
       "    </tr>\n",
       "    <tr>\n",
       "      <th>98</th>\n",
       "      <td>0.402760</td>\n",
       "      <td>0.811142</td>\n",
       "      <td>0.428193</td>\n",
       "      <td>0.798152</td>\n",
       "    </tr>\n",
       "    <tr>\n",
       "      <th>99</th>\n",
       "      <td>0.403099</td>\n",
       "      <td>0.810747</td>\n",
       "      <td>0.425934</td>\n",
       "      <td>0.795309</td>\n",
       "    </tr>\n",
       "  </tbody>\n",
       "</table>\n",
       "<p>100 rows × 4 columns</p>\n",
       "</div>"
      ],
      "text/plain": [
       "        loss  accuracy  val_loss  val_accuracy\n",
       "0   0.560715  0.734492  0.525889      0.734186\n",
       "1   0.490635  0.735282  0.459106      0.735608\n",
       "2   0.457414  0.756815  0.447522      0.764748\n",
       "3   0.449678  0.769064  0.444314      0.771855\n",
       "4   0.443125  0.778941  0.439902      0.771855\n",
       "..       ...       ...       ...           ...\n",
       "95  0.404340  0.808969  0.428512      0.798152\n",
       "96  0.404393  0.809561  0.425246      0.796731\n",
       "97  0.403825  0.811932  0.425509      0.796731\n",
       "98  0.402760  0.811142  0.428193      0.798152\n",
       "99  0.403099  0.810747  0.425934      0.795309\n",
       "\n",
       "[100 rows x 4 columns]"
      ]
     },
     "execution_count": 46,
     "metadata": {},
     "output_type": "execute_result"
    }
   ],
   "source": [
    "metrics1 = pd.DataFrame(model_training1.history)\n",
    "metrics1"
   ]
  },
  {
   "cell_type": "code",
   "execution_count": 47,
   "metadata": {},
   "outputs": [
    {
     "data": {
      "text/plain": [
       "<AxesSubplot:>"
      ]
     },
     "execution_count": 47,
     "metadata": {},
     "output_type": "execute_result"
    },
    {
     "data": {
      "image/png": "[encoded data removed]",
      "text/plain": [
       "<Figure size 432x288 with 1 Axes>"
      ]
     },
     "metadata": {
      "needs_background": "light"
     },
     "output_type": "display_data"
    }
   ],
   "source": [
    "metrics[['accuracy', 'val_accuracy']].plot()"
   ]
  },
  {
   "cell_type": "code",
   "execution_count": 48,
   "metadata": {},
   "outputs": [
    {
     "data": {
      "text/plain": [
       "<AxesSubplot:>"
      ]
     },
     "execution_count": 48,
     "metadata": {},
     "output_type": "execute_result"
    },
    {
     "data": {
      "image/png": "[encoded data removed]",
      "text/plain": [
       "<Figure size 432x288 with 1 Axes>"
      ]
     },
     "metadata": {
      "needs_background": "light"
     },
     "output_type": "display_data"
    }
   ],
   "source": [
    "metrics[['loss', 'val_loss']].plot()"
   ]
  },
  {
   "cell_type": "code",
   "execution_count": 49,
   "metadata": {},
   "outputs": [
    {
     "data": {
      "text/plain": [
       "<AxesSubplot:>"
      ]
     },
     "execution_count": 49,
     "metadata": {},
     "output_type": "execute_result"
    },
    {
     "data": {
      "image/png": "[encoded data removed]",
      "text/plain": [
       "<Figure size 432x288 with 1 Axes>"
      ]
     },
     "metadata": {
      "needs_background": "light"
     },
     "output_type": "display_data"
    }
   ],
   "source": [
    "metrics1[['accuracy', 'val_accuracy']].plot()"
   ]
  },
  {
   "cell_type": "code",
   "execution_count": 50,
   "metadata": {},
   "outputs": [
    {
     "data": {
      "text/plain": [
       "<AxesSubplot:>"
      ]
     },
     "execution_count": 50,
     "metadata": {},
     "output_type": "execute_result"
    },
    {
     "data": {
      "image/png": "[encoded data removed]",
      "text/plain": [
       "<Figure size 432x288 with 1 Axes>"
      ]
     },
     "metadata": {
      "needs_background": "light"
     },
     "output_type": "display_data"
    }
   ],
   "source": [
    "metrics1[['loss', 'val_loss']].plot()"
   ]
  },
  {
   "cell_type": "markdown",
   "metadata": {},
   "source": [
    "The model cannot learn any deeper, it can be seen in the loss and accuracy which are stuck and approaching overfitting, in the Epoch 100/100 loss: 0.4046 - accuracy: 0.8068 - val_loss: 0.4187 - val_accuracy: 0.7960 not much different from the Epoch 30/30 loss: 0.4218 - accuracy: 0.8003 - val_loss: 0.4211 - val_accuracy: 0.7939."
   ]
  },
  {
   "cell_type": "markdown",
   "metadata": {},
   "source": [
    "# Model Inference"
   ]
  },
  {
   "cell_type": "code",
   "execution_count": 51,
   "metadata": {},
   "outputs": [],
   "source": [
    "y_pred = model.predict(X_val_final)"
   ]
  },
  {
   "cell_type": "code",
   "execution_count": 52,
   "metadata": {},
   "outputs": [
    {
     "data": {
      "text/plain": [
       "array([0., 1., 0., 0., 0., 0., 0., 0., 0., 0., 0., 0., 0., 0., 0., 0., 0.,\n",
       "       0., 0., 1., 0., 1., 0., 0., 1., 0., 0., 0., 0., 0., 0., 0., 0., 0.,\n",
       "       0., 0., 0., 0., 0., 0., 0., 0., 0., 0., 0., 0., 1., 0., 0., 0., 0.,\n",
       "       0., 0., 0., 1., 0., 0., 1., 0., 0., 0., 0., 0., 0., 1., 0., 0., 0.,\n",
       "       0., 0., 0., 0., 0., 0., 1., 0., 0., 0., 0., 0., 0., 0., 0., 0., 0.,\n",
       "       0., 0., 0., 0., 1., 0., 1., 0., 0., 0., 0., 1., 0., 0., 0., 0., 0.,\n",
       "       0., 0., 0., 0., 0., 1., 0., 1., 1., 0., 0., 0., 0., 1., 0., 0., 0.,\n",
       "       0., 0., 0., 0., 0., 1., 0., 1., 1., 0., 1., 0., 0., 0., 0., 0., 0.,\n",
       "       0., 1., 0., 0., 0., 0., 0., 1., 0., 0., 1., 0., 0., 0., 0., 0., 0.,\n",
       "       0., 0., 0., 0., 0., 0., 0., 1., 0., 0., 0., 0., 0., 0., 0., 0., 1.,\n",
       "       0., 0., 0., 1., 0., 0., 0., 0., 1., 0., 0., 1., 0., 1., 0., 0., 1.,\n",
       "       0., 0., 0., 0., 0., 0., 1., 0., 0., 1., 0., 0., 0., 1., 1., 0., 1.,\n",
       "       0., 0., 1., 0., 0., 0., 1., 1., 0., 1., 0., 0., 0., 0., 1., 1., 0.,\n",
       "       1., 0., 0., 0., 0., 0., 0., 0., 0., 0., 0., 0., 1., 0., 0., 0., 0.,\n",
       "       0., 1., 0., 0., 0., 0., 0., 0., 0., 0., 0., 0., 0., 0., 0., 0., 0.,\n",
       "       0., 0., 0., 1., 0., 0., 0., 1., 0., 0., 0., 0., 0., 0., 0., 1., 1.,\n",
       "       0., 0., 1., 0., 0., 1., 0., 0., 0., 0., 0., 0., 0., 1., 1., 0., 0.,\n",
       "       0., 1., 0., 0., 0., 0., 0., 0., 1., 0., 1., 0., 1., 0., 0., 0., 0.,\n",
       "       0., 0., 0., 0., 1., 0., 0., 0., 0., 0., 0., 0., 0., 1., 0., 0., 0.,\n",
       "       1., 0., 0., 0., 1., 0., 1., 1., 0., 1., 0., 0., 0., 0., 0., 0., 1.,\n",
       "       0., 0., 0., 0., 1., 0., 0., 0., 0., 0., 1., 0., 1., 0., 1., 0., 0.,\n",
       "       0., 0., 1., 0., 0., 0., 0., 0., 0., 0., 1., 0., 1., 0., 0., 0., 0.,\n",
       "       0., 0., 0., 0., 0., 0., 0., 0., 1., 0., 0., 0., 1., 0., 0., 0., 0.,\n",
       "       0., 0., 0., 0., 0., 1., 0., 0., 0., 0., 0., 0., 0., 0., 1., 1., 0.,\n",
       "       1., 0., 0., 0., 0., 0., 1., 1., 0., 0., 1., 0., 0., 1., 0., 0., 0.,\n",
       "       0., 0., 0., 0., 0., 0., 0., 0., 0., 0., 0., 0., 0., 0., 0., 0., 0.,\n",
       "       0., 0., 0., 0., 0., 0., 0., 0., 1., 0., 1., 0., 0., 0., 0., 0., 0.,\n",
       "       0., 1., 1., 1., 0., 0., 0., 0., 0., 0., 1., 0., 1., 0., 0., 0., 1.,\n",
       "       0., 0., 0., 1., 0., 0., 1., 0., 0., 0., 0., 1., 0., 0., 0., 0., 0.,\n",
       "       0., 0., 0., 1., 0., 1., 1., 0., 0., 0., 0., 0., 1., 0., 0., 0., 0.,\n",
       "       0., 0., 0., 0., 0., 1., 0., 0., 0., 0., 0., 0., 0., 1., 0., 0., 0.,\n",
       "       0., 0., 0., 0., 0., 0., 0., 0., 0., 0., 0., 1., 1., 0., 0., 0., 0.,\n",
       "       0., 0., 0., 0., 0., 0., 1., 0., 0., 0., 0., 0., 0., 0., 0., 0., 1.,\n",
       "       0., 0.], dtype=float32)"
      ]
     },
     "execution_count": 52,
     "metadata": {},
     "output_type": "execute_result"
    }
   ],
   "source": [
    "y_pred[y_pred <= 0.5] = 0\n",
    "y_pred[y_pred > 0.5] = 1\n",
    "y_pred.squeeze()"
   ]
  },
  {
   "cell_type": "code",
   "execution_count": 53,
   "metadata": {},
   "outputs": [
    {
     "name": "stdout",
     "output_type": "stream",
     "text": [
      "              precision    recall  f1-score   support\n",
      "\n",
      "           0       0.83      0.93      0.88       408\n",
      "           1       0.74      0.48      0.58       155\n",
      "\n",
      "    accuracy                           0.81       563\n",
      "   macro avg       0.78      0.71      0.73       563\n",
      "weighted avg       0.80      0.81      0.80       563\n",
      "\n"
     ]
    }
   ],
   "source": [
    "print (classification_report(y_val, y_pred))"
   ]
  },
  {
   "cell_type": "markdown",
   "metadata": {},
   "source": [
    "# Pengambilan Kesimpulan"
   ]
  },
  {
   "cell_type": "markdown",
   "metadata": {},
   "source": [
    "This dataset consists of information about network service subscribers, including:\n",
    "- Services that have been registered by each customer\n",
    "- Customer account information\n",
    "- Demographic info about customers"
   ]
  },
  {
   "cell_type": "markdown",
   "metadata": {},
   "source": [
    "The dataset consists of 7043 rows and 21 columns"
   ]
  },
  {
   "cell_type": "markdown",
   "metadata": {},
   "source": [
    "Many customers come from a young age who are male, do not have a partner, dependents and choose to subscribe to telephone, internet.\n",
    "These young people take a monthly package and pay for it via electronic check/wallet app with an average payment of 64,761.\n",
    "not many use multipile channels, online security, device protection, technical support, and streaming TV and movies.\n",
    "\n",
    "Retaining customers can be done by giving rewards to customers who have been loyal/royal in using telco services, increasing internet speed in the customer area, Providing educational information for customers who have not used device protection, what kind of device protection is, Providing channel promos free on streaming TV/movies.\n",
    "final,\n",
    "If the customer has not subscribed again in the last month, provide interesting advertisements so that customers can re-subscribe again."
   ]
  },
  {
   "cell_type": "markdown",
   "metadata": {},
   "source": [
    "Conducted 2 training models with different hyperparameters\n",
    "- model 1 is given 5 hidden layers and 30 epochs\n",
    "- model 2 is given 3 hidden layers including 5, 10, 15 and epoch 100"
   ]
  },
  {
   "cell_type": "markdown",
   "metadata": {},
   "source": [
    "when hidden layers and epochs continue to be added, the modeling does not show its best performance, and instead leads to overfitting, the model is not able to learn any further. For the best modeling accuracy results are 0.79 with 1 hidden layer totaling 5 and epochs as many as 30,"
   ]
  },
  {
   "cell_type": "markdown",
   "metadata": {},
   "source": [
    "### Pipeline using pandas & tensorflow"
   ]
  },
  {
   "cell_type": "code",
   "execution_count": 54,
   "metadata": {},
   "outputs": [],
   "source": [
    "numeric_dataset = tf.data.Dataset.from_tensor_slices((X_train_final, y_train))"
   ]
  },
  {
   "cell_type": "code",
   "execution_count": 55,
   "metadata": {},
   "outputs": [
    {
     "data": {
      "text/plain": [
       "<TensorSliceDataset element_spec=(TensorSpec(shape=(19,), dtype=tf.float64, name=None), TensorSpec(shape=(), dtype=tf.int32, name=None))>"
      ]
     },
     "execution_count": 55,
     "metadata": {},
     "output_type": "execute_result"
    }
   ],
   "source": [
    "numeric_dataset"
   ]
  },
  {
   "cell_type": "markdown",
   "metadata": {},
   "source": [
    "bisa di shuffle, repeat, batch size, compile, fit model"
   ]
  },
  {
   "cell_type": "markdown",
   "metadata": {},
   "source": [
    "acc gak beda jauh"
   ]
  },
  {
   "cell_type": "markdown",
   "metadata": {},
   "source": []
  }
 ],
 "metadata": {
  "interpreter": {
   "hash": "88c793281afcf09f762d33d86dc18890ae8ba362b2f8bd9ab42f656765573e2c"
  },
  "kernelspec": {
   "display_name": "Python 3.10.1 64-bit",
   "language": "python",
   "name": "python3"
  },
  "language_info": {
   "codemirror_mode": {
    "name": "ipython",
    "version": 3
   },
   "file_extension": ".py",
   "mimetype": "text/x-python",
   "name": "python",
   "nbconvert_exporter": "python",
   "pygments_lexer": "ipython3",
   "version": "3.10.1"
  },
  "orig_nbformat": 4
 },
 "nbformat": 4,
 "nbformat_minor": 2
}
